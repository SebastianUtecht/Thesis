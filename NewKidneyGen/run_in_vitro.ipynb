{
 "cells": [
  {
   "cell_type": "code",
   "execution_count": 1,
   "metadata": {},
   "outputs": [],
   "source": [
    "from DataGeneration import *\n",
    "from KidneyGenInVitroGradVesAngleTest import *"
   ]
  },
  {
   "cell_type": "code",
   "execution_count": 10,
   "metadata": {},
   "outputs": [
    {
     "name": "stdout",
     "output_type": "stream",
     "text": [
      "Starting simulation with notes:\n",
      "angle_10_test\n",
      "Simulation done, saved 1 datapoints166 cells)\n",
      "Took 27.556341409683228 seconds\n"
     ]
    }
   ],
   "source": [
    "from DataGeneration import *\n",
    "from KidneyGenInVitroGradVesAngleTest import *\n",
    "angle = 70\n",
    "distance = 20\n",
    "sim_dict = {\n",
    "    'output_folder'     : f'vitro_tests/angle_{90-angle}_test_w_non',\n",
    "    'data'              : (make_2_spheres ,[100, 100, 500, distance]),\n",
    "    'dt'                : 0.2,\n",
    "    'eta'               : 0.0,\n",
    "    'yield_steps'       : 1_000,\n",
    "    'yield_every'       : 20,\n",
    "    'lambdas'           : [[0.3,0,0,0],\n",
    "                           [0.3,0,0,0],\n",
    "                           [0,1.,0,0],\n",
    "                           [0,0.55,0.45,0]],\n",
    "    'pre_lambdas'       : [0.3, 0.3, 1, 1],\n",
    "    'crit_ves_size'     : 100,\n",
    "    \"gamma\"             : 0.0,\n",
    "    \"gauss_multiplier\"  : 0.0,\n",
    "    \"warmup_dur\"        : 0,              #5_000,\n",
    "    \"pre_polar_dur\"     : 1_000,              #20_000,\n",
    "    'min_ves_time'      : 1_000,              #1_000,\n",
    "    \"seethru\"           : 0,\n",
    "    \"vesicle_alpha\"     : 0.4,\n",
    "    \"tube_alpha\"        : 0.5,\n",
    "    'betas'             : (0.0,0.0005),\n",
    "    'max_cells'         : 5_000,\n",
    "    'prolif_delay'      : 0,\n",
    "    'bound_radius'      : None,\n",
    "    'abs_s2s3'          : True,\n",
    "    'tube_wall_str'     : 0.3,\n",
    "    'new_tube_wall'     : False,\n",
    "    'init_k'            : 100,\n",
    "    'random_seed'       : 42,\n",
    "    'device'            : 'cuda',\n",
    "    'dtype'             : torch.float,\n",
    "    'notes'             : f'angle_{90-angle}_test',\n",
    "    'avg_q'             : False,\n",
    "    'polar_initialization'  : True,\n",
    "    'x_trans'           : distance,\n",
    "    'fusion_angle'      : angle,\n",
    "} \n",
    "\n",
    "run_simulation(sim_dict=sim_dict)"
   ]
  },
  {
   "cell_type": "code",
   "execution_count": null,
   "metadata": {},
   "outputs": [],
   "source": []
  },
  {
   "cell_type": "code",
   "execution_count": 3,
   "metadata": {},
   "outputs": [
    {
     "name": "stdout",
     "output_type": "stream",
     "text": [
      "Starting simulation with notes:\n",
      "test_sphere_smaller\n",
      "Simulation done, saved 3 datapoints100 cells)\n",
      "Took 48.0236177444458 seconds\n"
     ]
    }
   ],
   "source": [
    "from DataGeneration import *\n",
    "from KidneyGenInVitroGradVes import *\n",
    "\n",
    "sim_dict = {\n",
    "    'output_folder'     : f'test_sphere_smaller',\n",
    "    'data'              : (make_random_sphere ,[100, 0.0, 1]),\n",
    "    'dt'                : 0.2,\n",
    "    'eta'               : 0.1,\n",
    "    'yield_steps'       : 3,\n",
    "    'yield_every'       : 1_000,\n",
    "    'lambdas'           : [[0.3,0,0,0],\n",
    "                           [0.3,0,0,0],\n",
    "                           [0,1.,0,0],\n",
    "                           [0,0.55,0.45,0]],\n",
    "    'pre_lambdas'       : [0.3, 0.3, 1, 1],\n",
    "    'crit_ves_size'     : 100,\n",
    "    \"gamma\"             : 0.0,\n",
    "    \"gauss_multiplier\"  : 0.0,\n",
    "    \"warmup_dur\"        : 0.0,              #5_000,\n",
    "    \"pre_polar_dur\"     : 500,              #20_000,\n",
    "    'min_ves_time'      : 4000,              #1_000,\n",
    "    \"seethru\"           : 0,\n",
    "    \"vesicle_alpha\"     : 0.4,\n",
    "    \"tube_alpha\"        : 0.5,\n",
    "    'betas'             : (0.0,0.00),\n",
    "    'max_cells'         : 17_500,\n",
    "    'prolif_delay'      : 0,\n",
    "    'bound_radius'      : None,\n",
    "    'abs_s2s3'          : True,\n",
    "    'tube_wall_str'     : None,\n",
    "    'new_tube_wall'     : False,\n",
    "    'init_k'            : 100,\n",
    "    'random_seed'       : 42,\n",
    "    'device'            : 'cuda',\n",
    "    'dtype'             : torch.float,\n",
    "    'notes'             : f'test_sphere_smaller',\n",
    "    'avg_q'             : False,\n",
    "    'polar_initialization'  : True\n",
    "} \n",
    "\n",
    "run_simulation(sim_dict=sim_dict)"
   ]
  },
  {
   "cell_type": "code",
   "execution_count": 2,
   "metadata": {},
   "outputs": [
    {
     "name": "stdout",
     "output_type": "stream",
     "text": [
      "Starting simulation with notes:\n",
      "newnew_cellwall\n",
      "Simulation done, saved 2000 datapoints0)   (17501 cells)\n",
      "Took 2296.961634874344 seconds\n"
     ]
    }
   ],
   "source": [
    "np.random.seed(42)\n",
    "\n",
    "sim_dict = {\n",
    "    'output_folder'     : f'vitro_tests/newnew_cellwall',\n",
    "    'data'              : (make_random_sphere ,[4000, 0.8, 30]),\n",
    "    'dt'                : 0.2,\n",
    "    'eta'               : 0.1,\n",
    "    'yield_steps'       : 2_000,\n",
    "    'yield_every'       : 50,\n",
    "    'lambdas'           : [0.3 ,0.3, 0.55, 0.45, 0.00],\n",
    "    'pre_lambdas'       : [0.3, 0.3, 1],\n",
    "    \"gamma\"             : 0.0,\n",
    "    \"gauss_multiplier\"  : 0.0,\n",
    "    \"warmup_dur\"        : 1000,\n",
    "    \"pre_polar_dur\"     : 15000,\n",
    "    \"vesicle_time\"      : 5000,\n",
    "    \"seethru\"           : 1,\n",
    "    \"vesicle_alpha\"     : 0.4,\n",
    "    \"tube_alpha\"        : 0.5,\n",
    "    'betas'             : (0.0,0.0005),\n",
    "    'max_cells'         : 17_500,\n",
    "    'prolif_delay'      : 0,\n",
    "    'bound_radius'      : None,\n",
    "    'abs_s2s3'          : True,\n",
    "    'cell_wall_str'     : None,\n",
    "    'cell_wall_interaction' : [False, False, False],\n",
    "    'use_old_cell_wall' : False,\n",
    "    'newnew_cellwall'   : True,\n",
    "    'init_k'            : 100,\n",
    "    'random_seed'       : 42,\n",
    "    'device'            : 'cuda',\n",
    "    'dtype'             : torch.float,\n",
    "    'notes'             : f'gradual_vesicle_debugging',\n",
    "    'avg_q'             : False,\n",
    "    'polar_initialization'  : True\n",
    "} \n",
    "\n",
    "run_simulation(sim_dict=sim_dict)"
   ]
  },
  {
   "cell_type": "code",
   "execution_count": 6,
   "metadata": {},
   "outputs": [
    {
     "name": "stdout",
     "output_type": "stream",
     "text": [
      "Starting simulation with notes:\n",
      "vitro_wedging_test_\n",
      "Running 848 of 1000   (42400 of 50000)   (21625 cells)\r"
     ]
    },
    {
     "ename": "KeyboardInterrupt",
     "evalue": "",
     "output_type": "error",
     "traceback": [
      "\u001b[1;31m---------------------------------------------------------------------------\u001b[0m",
      "\u001b[1;31mKeyboardInterrupt\u001b[0m                         Traceback (most recent call last)",
      "Cell \u001b[1;32mIn[6], line 35\u001b[0m\n\u001b[0;32m      1\u001b[0m \u001b[38;5;66;03m### TESTING ONLY WEDGING AND NO L3 ###\u001b[39;00m\n\u001b[0;32m      3\u001b[0m sim_dict \u001b[38;5;241m=\u001b[39m {\n\u001b[0;32m      4\u001b[0m     \u001b[38;5;124m'\u001b[39m\u001b[38;5;124moutput_folder\u001b[39m\u001b[38;5;124m'\u001b[39m     : \u001b[38;5;124mf\u001b[39m\u001b[38;5;124m'\u001b[39m\u001b[38;5;124mvitro_wedging_test_4\u001b[39m\u001b[38;5;124m'\u001b[39m,\n\u001b[0;32m      5\u001b[0m     \u001b[38;5;124m'\u001b[39m\u001b[38;5;124mdata\u001b[39m\u001b[38;5;124m'\u001b[39m              : (make_random_sphere ,[\u001b[38;5;241m5\u001b[39m, \u001b[38;5;241m0.0\u001b[39m, \u001b[38;5;241m1\u001b[39m]),\n\u001b[1;32m   (...)\u001b[0m\n\u001b[0;32m     32\u001b[0m     \u001b[38;5;124m'\u001b[39m\u001b[38;5;124mpolar_initialization\u001b[39m\u001b[38;5;124m'\u001b[39m  : \u001b[38;5;28;01mTrue\u001b[39;00m\n\u001b[0;32m     33\u001b[0m }\n\u001b[1;32m---> 35\u001b[0m run_simulation(sim_dict\u001b[38;5;241m=\u001b[39msim_dict)\n",
      "File \u001b[1;32mc:\\Users\\s_ute\\OneDrive\\Dokumenter\\Uni\\Thesis\\NewKidneyGen\\KidneyGenInVitro.py:504\u001b[0m, in \u001b[0;36mrun_simulation\u001b[1;34m(sim_dict)\u001b[0m\n\u001b[0;32m    501\u001b[0m i \u001b[38;5;241m=\u001b[39m \u001b[38;5;241m0\u001b[39m\n\u001b[0;32m    502\u001b[0m t1 \u001b[38;5;241m=\u001b[39m time()\n\u001b[1;32m--> 504\u001b[0m \u001b[38;5;28;01mfor\u001b[39;00m xx, pp, qq, pp_mask \u001b[38;5;129;01min\u001b[39;00m itertools\u001b[38;5;241m.\u001b[39mislice(runner, yield_steps):\n\u001b[0;32m    505\u001b[0m     i \u001b[38;5;241m+\u001b[39m\u001b[38;5;241m=\u001b[39m \u001b[38;5;241m1\u001b[39m\n\u001b[0;32m    506\u001b[0m     \u001b[38;5;28mprint\u001b[39m(\u001b[38;5;124mf\u001b[39m\u001b[38;5;124m'\u001b[39m\u001b[38;5;124mRunning \u001b[39m\u001b[38;5;132;01m{\u001b[39;00mi\u001b[38;5;132;01m}\u001b[39;00m\u001b[38;5;124m of \u001b[39m\u001b[38;5;132;01m{\u001b[39;00myield_steps\u001b[38;5;132;01m}\u001b[39;00m\u001b[38;5;124m   (\u001b[39m\u001b[38;5;132;01m{\u001b[39;00myield_every \u001b[38;5;241m*\u001b[39m i\u001b[38;5;132;01m}\u001b[39;00m\u001b[38;5;124m of \u001b[39m\u001b[38;5;132;01m{\u001b[39;00myield_every \u001b[38;5;241m*\u001b[39m yield_steps\u001b[38;5;132;01m}\u001b[39;00m\u001b[38;5;124m)   (\u001b[39m\u001b[38;5;132;01m{\u001b[39;00m\u001b[38;5;28mlen\u001b[39m(xx)\u001b[38;5;132;01m}\u001b[39;00m\u001b[38;5;124m cells)\u001b[39m\u001b[38;5;124m'\u001b[39m, end\u001b[38;5;241m=\u001b[39m\u001b[38;5;124m'\u001b[39m\u001b[38;5;130;01m\\r\u001b[39;00m\u001b[38;5;124m'\u001b[39m)\n",
      "File \u001b[1;32mc:\\Users\\s_ute\\OneDrive\\Dokumenter\\Uni\\Thesis\\NewKidneyGen\\KidneyGenInVitro.py:345\u001b[0m, in \u001b[0;36mSimulation.simulation\u001b[1;34m(self, x, p, q, p_mask)\u001b[0m\n\u001b[0;32m    343\u001b[0m \u001b[38;5;28;01mwhile\u001b[39;00m \u001b[38;5;28;01mTrue\u001b[39;00m:\n\u001b[0;32m    344\u001b[0m     tstep \u001b[38;5;241m+\u001b[39m\u001b[38;5;241m=\u001b[39m \u001b[38;5;241m1\u001b[39m\n\u001b[1;32m--> 345\u001b[0m     x, p, q, p_mask \u001b[38;5;241m=\u001b[39m \u001b[38;5;28mself\u001b[39m\u001b[38;5;241m.\u001b[39mtime_step(x, p, q, p_mask, tstep)\n\u001b[0;32m    347\u001b[0m     \u001b[38;5;66;03m# if tstep == 800:\u001b[39;00m\n\u001b[0;32m    348\u001b[0m     \u001b[38;5;66;03m#     self.gamma = 0.0\u001b[39;00m\n\u001b[0;32m    350\u001b[0m     \u001b[38;5;28;01mif\u001b[39;00m tstep \u001b[38;5;241m%\u001b[39m \u001b[38;5;28mself\u001b[39m\u001b[38;5;241m.\u001b[39myield_every \u001b[38;5;241m==\u001b[39m \u001b[38;5;241m0\u001b[39m \u001b[38;5;129;01mor\u001b[39;00m \u001b[38;5;28mlen\u001b[39m(x) \u001b[38;5;241m>\u001b[39m \u001b[38;5;28mself\u001b[39m\u001b[38;5;241m.\u001b[39mmax_cells:\n",
      "File \u001b[1;32mc:\\Users\\s_ute\\OneDrive\\Dokumenter\\Uni\\Thesis\\NewKidneyGen\\KidneyGenInVitro.py:304\u001b[0m, in \u001b[0;36mSimulation.time_step\u001b[1;34m(self, x, p, q, p_mask, tstep)\u001b[0m\n\u001b[0;32m    302\u001b[0m \u001b[38;5;28;01mif\u001b[39;00m \u001b[38;5;28mself\u001b[39m\u001b[38;5;241m.\u001b[39mupdate_neighbors_bool(tstep, division):\n\u001b[0;32m    303\u001b[0m     d, idx \u001b[38;5;241m=\u001b[39m \u001b[38;5;28mself\u001b[39m\u001b[38;5;241m.\u001b[39mfind_potential_neighbours(x\u001b[38;5;241m.\u001b[39mdetach()\u001b[38;5;241m.\u001b[39mto(\u001b[38;5;124m\"\u001b[39m\u001b[38;5;124mcpu\u001b[39m\u001b[38;5;124m\"\u001b[39m)\u001b[38;5;241m.\u001b[39mnumpy(), k\u001b[38;5;241m=\u001b[39mk)\n\u001b[1;32m--> 304\u001b[0m     \u001b[38;5;28mself\u001b[39m\u001b[38;5;241m.\u001b[39midx \u001b[38;5;241m=\u001b[39m torch\u001b[38;5;241m.\u001b[39mtensor(idx, dtype\u001b[38;5;241m=\u001b[39mtorch\u001b[38;5;241m.\u001b[39mlong, device\u001b[38;5;241m=\u001b[39m\u001b[38;5;28mself\u001b[39m\u001b[38;5;241m.\u001b[39mdevice)\n\u001b[0;32m    305\u001b[0m     \u001b[38;5;28mself\u001b[39m\u001b[38;5;241m.\u001b[39md \u001b[38;5;241m=\u001b[39m torch\u001b[38;5;241m.\u001b[39mtensor(d, dtype\u001b[38;5;241m=\u001b[39m\u001b[38;5;28mself\u001b[39m\u001b[38;5;241m.\u001b[39mdtype, device\u001b[38;5;241m=\u001b[39m\u001b[38;5;28mself\u001b[39m\u001b[38;5;241m.\u001b[39mdevice)\n\u001b[0;32m    306\u001b[0m idx \u001b[38;5;241m=\u001b[39m \u001b[38;5;28mself\u001b[39m\u001b[38;5;241m.\u001b[39midx\n",
      "\u001b[1;31mKeyboardInterrupt\u001b[0m: "
     ]
    }
   ],
   "source": [
    "### TESTING ONLY WEDGING AND NO L3 ###\n",
    "\n",
    "sim_dict = {\n",
    "    'output_folder'     : f'vitro_wedging_test_4',\n",
    "    'data'              : (make_random_sphere ,[5, 0.0, 1]),\n",
    "    'dt'                : 0.2,\n",
    "    'eta'               : 0.1,\n",
    "    'yield_steps'       : 1_000,\n",
    "    'yield_every'       : 50,\n",
    "    'lambdas'           : [0.3 ,0.3, 0.55, 0.45, 0.00],\n",
    "    'pre_lambdas'       : [0.3, 0.3, 1],\n",
    "    'gamma'             : 0.00,\n",
    "    'gauss_multiplier'  : 0.00,\n",
    "    'warmup_dur'        : 0,\n",
    "    'pre_polar_dur'     : 1000,\n",
    "    'vesicle_time'      : 0,\n",
    "    'seethru'           : 0,\n",
    "    'vesicle_alpha'     : 0.4,\n",
    "    'tube_alpha'        : 0.5,\n",
    "    'betas'             : (0.0,0.001), #0.0005\n",
    "    'max_cells'         : 25_000,\n",
    "    'prolif_delay'      : 0,    \n",
    "    'bound_radius'      : None,\n",
    "    'abs_s2s3'          : True,\n",
    "    'cell_wall_interaction' : [True, True, True],\n",
    "    'init_k'            : 100,\n",
    "    'random_seed'       : 42,\n",
    "    'device'            : 'cuda',\n",
    "    'dtype'             : torch.float,\n",
    "    'notes'             : f'vitro_wedging_test_',\n",
    "    'avg_q'             : False,\n",
    "    'polar_initialization'  : True\n",
    "}\n",
    "\n",
    "run_simulation(sim_dict=sim_dict)"
   ]
  },
  {
   "cell_type": "code",
   "execution_count": 2,
   "metadata": {},
   "outputs": [],
   "source": [
    "# sim_dict = {\n",
    "#     'output_folder'     : f'new_vitro_test',\n",
    "#     'data'              : (make_random_sphere ,[4000, 0.7, 15]),\n",
    "#     'dt'                : 0.2,\n",
    "#     'eta'               : 0.1,\n",
    "#     'yield_steps'       : 1_000,\n",
    "#     'yield_every'       : 50,\n",
    "#     'lambdas'           : [0.3 ,0.3, 0.5, 0.42, 0.08],\n",
    "#     'pre_lambdas'       : [0.3, 0.3, 1],\n",
    "#     'gamma'             : 0.00,\n",
    "#     'gauss_multiplier'  : 0.00,\n",
    "#     'warmup_dur'        : 0,\n",
    "#     'pre_polar_dur'     : 10_000,\n",
    "#     'vesicle_time'      : 2_000,\n",
    "#     'seethru'           : 0,\n",
    "#     'vesicle_alpha'     : 0.3,\n",
    "#     'tube_alpha'        : 0.3,\n",
    "#     'betas'             : (0.0,0.0001),\n",
    "#     'max_cells'         : 25_000,\n",
    "#     'prolif_delay'      : 0,    \n",
    "#     'bound_radius'      : None,\n",
    "#     'abs_s2s3'          : True,\n",
    "#     'cell_wall_interaction' : [True, True, True],\n",
    "#     'init_k'            : 100,\n",
    "#     'random_seed'       : 42,\n",
    "#     'device'            : 'cuda',\n",
    "#     'dtype'             : torch.float,\n",
    "#     'notes'             : f'new_vitro_test',\n",
    "#     'avg_q'             : False,\n",
    "#     'polar_initialization'  : True\n",
    "# }"
   ]
  },
  {
   "cell_type": "code",
   "execution_count": 3,
   "metadata": {},
   "outputs": [
    {
     "name": "stdout",
     "output_type": "stream",
     "text": [
      "Starting simulation with notes:\n",
      "vitro_only_wedging\n",
      "Running 84 of 1000   (4200 of 50000)   (100 cells)\r"
     ]
    },
    {
     "ename": "KeyboardInterrupt",
     "evalue": "",
     "output_type": "error",
     "traceback": [
      "\u001b[1;31m---------------------------------------------------------------------------\u001b[0m",
      "\u001b[1;31mKeyboardInterrupt\u001b[0m                         Traceback (most recent call last)",
      "Cell \u001b[1;32mIn[3], line 1\u001b[0m\n\u001b[1;32m----> 1\u001b[0m run_simulation(sim_dict\u001b[38;5;241m=\u001b[39msim_dict)\n",
      "File \u001b[1;32mc:\\Users\\s_ute\\OneDrive\\Dokumenter\\Uni\\Thesis\\NewKidneyGen\\KidneyGenInVitro.py:504\u001b[0m, in \u001b[0;36mrun_simulation\u001b[1;34m(sim_dict)\u001b[0m\n\u001b[0;32m    501\u001b[0m i \u001b[38;5;241m=\u001b[39m \u001b[38;5;241m0\u001b[39m\n\u001b[0;32m    502\u001b[0m t1 \u001b[38;5;241m=\u001b[39m time()\n\u001b[1;32m--> 504\u001b[0m \u001b[38;5;28;01mfor\u001b[39;00m xx, pp, qq, pp_mask \u001b[38;5;129;01min\u001b[39;00m itertools\u001b[38;5;241m.\u001b[39mislice(runner, yield_steps):\n\u001b[0;32m    505\u001b[0m     i \u001b[38;5;241m+\u001b[39m\u001b[38;5;241m=\u001b[39m \u001b[38;5;241m1\u001b[39m\n\u001b[0;32m    506\u001b[0m     \u001b[38;5;28mprint\u001b[39m(\u001b[38;5;124mf\u001b[39m\u001b[38;5;124m'\u001b[39m\u001b[38;5;124mRunning \u001b[39m\u001b[38;5;132;01m{\u001b[39;00mi\u001b[38;5;132;01m}\u001b[39;00m\u001b[38;5;124m of \u001b[39m\u001b[38;5;132;01m{\u001b[39;00myield_steps\u001b[38;5;132;01m}\u001b[39;00m\u001b[38;5;124m   (\u001b[39m\u001b[38;5;132;01m{\u001b[39;00myield_every \u001b[38;5;241m*\u001b[39m i\u001b[38;5;132;01m}\u001b[39;00m\u001b[38;5;124m of \u001b[39m\u001b[38;5;132;01m{\u001b[39;00myield_every \u001b[38;5;241m*\u001b[39m yield_steps\u001b[38;5;132;01m}\u001b[39;00m\u001b[38;5;124m)   (\u001b[39m\u001b[38;5;132;01m{\u001b[39;00m\u001b[38;5;28mlen\u001b[39m(xx)\u001b[38;5;132;01m}\u001b[39;00m\u001b[38;5;124m cells)\u001b[39m\u001b[38;5;124m'\u001b[39m, end\u001b[38;5;241m=\u001b[39m\u001b[38;5;124m'\u001b[39m\u001b[38;5;130;01m\\r\u001b[39;00m\u001b[38;5;124m'\u001b[39m)\n",
      "File \u001b[1;32mc:\\Users\\s_ute\\OneDrive\\Dokumenter\\Uni\\Thesis\\NewKidneyGen\\KidneyGenInVitro.py:345\u001b[0m, in \u001b[0;36mSimulation.simulation\u001b[1;34m(self, x, p, q, p_mask)\u001b[0m\n\u001b[0;32m    343\u001b[0m \u001b[38;5;28;01mwhile\u001b[39;00m \u001b[38;5;28;01mTrue\u001b[39;00m:\n\u001b[0;32m    344\u001b[0m     tstep \u001b[38;5;241m+\u001b[39m\u001b[38;5;241m=\u001b[39m \u001b[38;5;241m1\u001b[39m\n\u001b[1;32m--> 345\u001b[0m     x, p, q, p_mask \u001b[38;5;241m=\u001b[39m \u001b[38;5;28mself\u001b[39m\u001b[38;5;241m.\u001b[39mtime_step(x, p, q, p_mask, tstep)\n\u001b[0;32m    347\u001b[0m     \u001b[38;5;66;03m# if tstep == 800:\u001b[39;00m\n\u001b[0;32m    348\u001b[0m     \u001b[38;5;66;03m#     self.gamma = 0.0\u001b[39;00m\n\u001b[0;32m    350\u001b[0m     \u001b[38;5;28;01mif\u001b[39;00m tstep \u001b[38;5;241m%\u001b[39m \u001b[38;5;28mself\u001b[39m\u001b[38;5;241m.\u001b[39myield_every \u001b[38;5;241m==\u001b[39m \u001b[38;5;241m0\u001b[39m \u001b[38;5;129;01mor\u001b[39;00m \u001b[38;5;28mlen\u001b[39m(x) \u001b[38;5;241m>\u001b[39m \u001b[38;5;28mself\u001b[39m\u001b[38;5;241m.\u001b[39mmax_cells:\n",
      "File \u001b[1;32mc:\\Users\\s_ute\\OneDrive\\Dokumenter\\Uni\\Thesis\\NewKidneyGen\\KidneyGenInVitro.py:318\u001b[0m, in \u001b[0;36mSimulation.time_step\u001b[1;34m(self, x, p, q, p_mask, tstep)\u001b[0m\n\u001b[0;32m    315\u001b[0m         q[p_mask \u001b[38;5;241m!=\u001b[39m \u001b[38;5;241m0\u001b[39m] \u001b[38;5;241m/\u001b[39m\u001b[38;5;241m=\u001b[39m torch\u001b[38;5;241m.\u001b[39msqrt(torch\u001b[38;5;241m.\u001b[39msum(q[p_mask \u001b[38;5;241m!=\u001b[39m \u001b[38;5;241m0\u001b[39m] \u001b[38;5;241m*\u001b[39m\u001b[38;5;241m*\u001b[39m \u001b[38;5;241m2\u001b[39m, dim\u001b[38;5;241m=\u001b[39m\u001b[38;5;241m1\u001b[39m))[:, \u001b[38;5;28;01mNone\u001b[39;00m]          \u001b[38;5;66;03m# Normalizing q. Only the non-zero polarities are considered.\u001b[39;00m\n\u001b[0;32m    317\u001b[0m \u001b[38;5;66;03m# Calculate potential\u001b[39;00m\n\u001b[1;32m--> 318\u001b[0m V, \u001b[38;5;28mself\u001b[39m\u001b[38;5;241m.\u001b[39mtrue_neighbour_max \u001b[38;5;241m=\u001b[39m \u001b[38;5;28mself\u001b[39m\u001b[38;5;241m.\u001b[39mpotential(x, p, q, p_mask, idx, d, tstep)\n\u001b[0;32m    320\u001b[0m \u001b[38;5;66;03m# Backpropagation\u001b[39;00m\n\u001b[0;32m    321\u001b[0m V\u001b[38;5;241m.\u001b[39mbackward()\n",
      "File \u001b[1;32mc:\\Users\\s_ute\\OneDrive\\Dokumenter\\Uni\\Thesis\\NewKidneyGen\\KidneyGenInVitro.py:124\u001b[0m, in \u001b[0;36mSimulation.potential\u001b[1;34m(self, x, p, q, p_mask, idx, d, tstep)\u001b[0m\n\u001b[0;32m    121\u001b[0m dx \u001b[38;5;241m=\u001b[39m dx \u001b[38;5;241m/\u001b[39m d[:, :, \u001b[38;5;28;01mNone\u001b[39;00m]\n\u001b[0;32m    123\u001b[0m \u001b[38;5;66;03m# Making interaction mask\u001b[39;00m\n\u001b[1;32m--> 124\u001b[0m interaction_mask \u001b[38;5;241m=\u001b[39m p_mask[:,\u001b[38;5;28;01mNone\u001b[39;00m]\u001b[38;5;241m.\u001b[39mexpand(p_mask\u001b[38;5;241m.\u001b[39mshape[\u001b[38;5;241m0\u001b[39m], idx\u001b[38;5;241m.\u001b[39mshape[\u001b[38;5;241m1\u001b[39m]) \u001b[38;5;241m+\u001b[39m p_mask[idx]\n\u001b[0;32m    126\u001b[0m \u001b[38;5;28;01mif\u001b[39;00m tstep \u001b[38;5;241m==\u001b[39m (\u001b[38;5;28mself\u001b[39m\u001b[38;5;241m.\u001b[39mwarmup_dur \u001b[38;5;241m+\u001b[39m \u001b[38;5;28mself\u001b[39m\u001b[38;5;241m.\u001b[39mpre_polar_dur) \u001b[38;5;129;01mand\u001b[39;00m \u001b[38;5;28mself\u001b[39m\u001b[38;5;241m.\u001b[39mpolar_initialization:\n\u001b[0;32m    127\u001b[0m     \u001b[38;5;28;01mwith\u001b[39;00m torch\u001b[38;5;241m.\u001b[39mno_grad():\n",
      "\u001b[1;31mKeyboardInterrupt\u001b[0m: "
     ]
    }
   ],
   "source": [
    "# run_simulation(sim_dict=sim_dict)"
   ]
  },
  {
   "cell_type": "code",
   "execution_count": 8,
   "metadata": {},
   "outputs": [
    {
     "data": {
      "text/plain": [
       "(4, 1)"
      ]
     },
     "execution_count": 8,
     "metadata": {},
     "output_type": "execute_result"
    }
   ],
   "source": [
    "arr = np.array([1,2,3,4])\n",
    "\n",
    "arr[:,None].shape"
   ]
  },
  {
   "cell_type": "code",
   "execution_count": null,
   "metadata": {},
   "outputs": [],
   "source": []
  }
 ],
 "metadata": {
  "kernelspec": {
   "display_name": "masters_env",
   "language": "python",
   "name": "python3"
  },
  "language_info": {
   "codemirror_mode": {
    "name": "ipython",
    "version": 3
   },
   "file_extension": ".py",
   "mimetype": "text/x-python",
   "name": "python",
   "nbconvert_exporter": "python",
   "pygments_lexer": "ipython3",
   "version": "3.11.5"
  }
 },
 "nbformat": 4,
 "nbformat_minor": 2
}
