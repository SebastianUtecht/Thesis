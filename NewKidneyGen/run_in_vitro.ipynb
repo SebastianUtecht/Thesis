{
 "cells": [
  {
   "cell_type": "code",
   "execution_count": 4,
   "metadata": {},
   "outputs": [],
   "source": [
    "from DataGeneration import *\n",
    "from KidneyGenInVitro import *"
   ]
  },
  {
   "cell_type": "code",
   "execution_count": 5,
   "metadata": {},
   "outputs": [],
   "source": [
    "sim_dict = {\n",
    "    'output_folder'     : f'polar_init_test_0',\n",
    "    'data'              : (make_random_sphere ,[4000, 0.8, 35]),\n",
    "    'dt'                : 0.2,\n",
    "    'eta'               : 0.1,\n",
    "    'yield_steps'       : 1_000,\n",
    "    'yield_every'       : 50,\n",
    "    'lambdas'           : [0.3 ,0.3, 0.50, 0.42, 0.08],\n",
    "    'pre_lambdas'       : [0.3, 0.3, 1],\n",
    "    'gamma'             : 0.05,\n",
    "    'gauss_multiplier'  : 0.00,\n",
    "    'warmup_dur'        : 500,\n",
    "    'pre_polar_dur'     : 5_000,\n",
    "    'vesicle_time'      : 2000,\n",
    "    'seethru'           : 1,\n",
    "    'vesicle_alpha'     : 0.3,\n",
    "    'tube_alpha'        : 0.5,\n",
    "    'betas'             : (0.0,0.0005),\n",
    "    'max_cells'         : 25_000,\n",
    "    'prolif_delay'      : 0,\n",
    "    'bound_radius'      : None,\n",
    "    'abs_s2s3'          : True,\n",
    "    'cell_wall_interaction' : [True, True, True],\n",
    "    'init_k'            : 100,\n",
    "    'random_seed'       : 42,\n",
    "    'device'            : 'cpu',\n",
    "    'dtype'             : torch.float,\n",
    "    'notes'             : f'polar_init_test_0',\n",
    "    'avg_q'             : False,\n",
    "    'polar_initialization'  : True\n",
    "}"
   ]
  },
  {
   "cell_type": "code",
   "execution_count": 1,
   "metadata": {},
   "outputs": [
    {
     "output_type": "error",
     "ename": "NameError",
     "evalue": "name 'run_simulation' is not defined",
     "traceback": [
      "\u001b[1;31m---------------------------------------------------------------------------\u001b[0m",
      "\u001b[1;31mNameError\u001b[0m                                 Traceback (most recent call last)",
      "Cell \u001b[1;32mIn[1], line 2\u001b[0m\n\u001b[0;32m      1\u001b[0m \u001b[38;5;28mbreakpoint\u001b[39m()\n\u001b[1;32m----> 2\u001b[0m \u001b[43mrun_simulation\u001b[49m(sim_dict\u001b[38;5;241m=\u001b[39msim_dict)\n",
      "\u001b[1;31mNameError\u001b[0m: name 'run_simulation' is not defined"
     ]
    }
   ],
   "source": [
    "run_simulation(sim_dict=sim_dict)"
   ]
  },
  {
   "cell_type": "code",
   "execution_count": null,
   "metadata": {},
   "outputs": [],
   "source": []
  }
 ],
 "metadata": {
  "kernelspec": {
   "name": "python3",
   "display_name": "Python 3.10.14 64-bit ('seb_thesis_env': conda)"
  },
  "language_info": {
   "codemirror_mode": {
    "name": "ipython",
    "version": 3
   },
   "file_extension": ".py",
   "mimetype": "text/x-python",
   "name": "python",
   "nbconvert_exporter": "python",
   "pygments_lexer": "ipython3",
   "version": "3.10.14"
  },
  "interpreter": {
   "hash": "4c08548143271a714d27776e0e0e6bf98f452125d711c135a0642961d9925bc3"
  }
 },
 "nbformat": 4,
 "nbformat_minor": 2
}