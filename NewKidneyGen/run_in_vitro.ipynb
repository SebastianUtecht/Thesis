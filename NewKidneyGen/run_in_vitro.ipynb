{
 "cells": [
  {
   "cell_type": "code",
   "execution_count": 1,
   "metadata": {},
   "outputs": [],
   "source": [
    "from DataGeneration import *\n",
    "from KidneyGenAlphaMethod import *"
   ]
  },
  {
   "cell_type": "code",
   "execution_count": 2,
   "metadata": {},
   "outputs": [],
   "source": [
    "sim_dict = {\n",
    "    'output_folder'     : f'polar_init_test_0',\n",
    "    'data'              : (make_random_sphere ,[4000, 0.8, 35]),\n",
    "    'dt'                : 0.2,\n",
    "    'eta'               : 0.1,\n",
    "    'yield_steps'       : 1_000,\n",
    "    'yield_every'       : 50,\n",
    "    'lambdas'           : [0.3 ,0.3, 0.50, 0.42, 0.08],\n",
    "    'pre_lambdas'       : [0.3, 0.3, 1],\n",
    "    'gamma'             : 0.05,\n",
    "    'gauss_multiplier'  : 0.00,\n",
    "    'warmup_dur'        : 500,\n",
    "    'pre_polar_dur'     : 5_000,\n",
    "    'vesicle_time'      : 2000,\n",
    "    'seethru'           : 1,\n",
    "    'vesicle_alpha'     : 0.3,\n",
    "    'tube_alpha'        : 0.5,\n",
    "    'betas'             : (0.0,0.0005),\n",
    "    'max_cells'         : 25_000,\n",
    "    'prolif_delay'      : 0,\n",
    "    'bound_radius'      : None,\n",
    "    'abs_s2s3'          : True,\n",
    "    'min0_s1'           : False,\n",
    "    'init_k'            : 100,\n",
    "    'random_seed'       : 42,\n",
    "    'device'            : 'cuda',\n",
    "    'dtype'             : torch.float,\n",
    "    'notes'             : f'polar_init_test_0',\n",
    "    'avg_q'             : False,\n",
    "    'polar_initialization': True\n",
    "}"
   ]
  },
  {
   "cell_type": "code",
   "execution_count": 3,
   "metadata": {},
   "outputs": [
    {
     "name": "stdout",
     "output_type": "stream",
     "text": [
      "Starting simulation with notes:\n",
      "polar_init_test_0\n",
      "Running 728 of 1000   (36400 of 50000)   (16661 cells)\r"
     ]
    },
    {
     "ename": "KeyboardInterrupt",
     "evalue": "",
     "output_type": "error",
     "traceback": [
      "\u001b[1;31m---------------------------------------------------------------------------\u001b[0m",
      "\u001b[1;31mKeyboardInterrupt\u001b[0m                         Traceback (most recent call last)",
      "Cell \u001b[1;32mIn[3], line 1\u001b[0m\n\u001b[1;32m----> 1\u001b[0m run_simulation(sim_dict\u001b[38;5;241m=\u001b[39msim_dict)\n",
      "File \u001b[1;32mc:\\Users\\s_ute\\OneDrive\\Dokumenter\\Uni\\Thesis\\NewKidneyGen\\KidneyGenAlphaMethod.py:497\u001b[0m, in \u001b[0;36mrun_simulation\u001b[1;34m(sim_dict)\u001b[0m\n\u001b[0;32m    494\u001b[0m i \u001b[38;5;241m=\u001b[39m \u001b[38;5;241m0\u001b[39m\n\u001b[0;32m    495\u001b[0m t1 \u001b[38;5;241m=\u001b[39m time()\n\u001b[1;32m--> 497\u001b[0m \u001b[38;5;28;01mfor\u001b[39;00m xx, pp, qq, pp_mask \u001b[38;5;129;01min\u001b[39;00m itertools\u001b[38;5;241m.\u001b[39mislice(runner, yield_steps):\n\u001b[0;32m    498\u001b[0m     i \u001b[38;5;241m+\u001b[39m\u001b[38;5;241m=\u001b[39m \u001b[38;5;241m1\u001b[39m\n\u001b[0;32m    499\u001b[0m     \u001b[38;5;28mprint\u001b[39m(\u001b[38;5;124mf\u001b[39m\u001b[38;5;124m'\u001b[39m\u001b[38;5;124mRunning \u001b[39m\u001b[38;5;132;01m{\u001b[39;00mi\u001b[38;5;132;01m}\u001b[39;00m\u001b[38;5;124m of \u001b[39m\u001b[38;5;132;01m{\u001b[39;00myield_steps\u001b[38;5;132;01m}\u001b[39;00m\u001b[38;5;124m   (\u001b[39m\u001b[38;5;132;01m{\u001b[39;00myield_every \u001b[38;5;241m*\u001b[39m i\u001b[38;5;132;01m}\u001b[39;00m\u001b[38;5;124m of \u001b[39m\u001b[38;5;132;01m{\u001b[39;00myield_every \u001b[38;5;241m*\u001b[39m yield_steps\u001b[38;5;132;01m}\u001b[39;00m\u001b[38;5;124m)   (\u001b[39m\u001b[38;5;132;01m{\u001b[39;00m\u001b[38;5;28mlen\u001b[39m(xx)\u001b[38;5;132;01m}\u001b[39;00m\u001b[38;5;124m cells)\u001b[39m\u001b[38;5;124m'\u001b[39m, end\u001b[38;5;241m=\u001b[39m\u001b[38;5;124m'\u001b[39m\u001b[38;5;130;01m\\r\u001b[39;00m\u001b[38;5;124m'\u001b[39m)\n",
      "File \u001b[1;32mc:\\Users\\s_ute\\OneDrive\\Dokumenter\\Uni\\Thesis\\NewKidneyGen\\KidneyGenAlphaMethod.py:338\u001b[0m, in \u001b[0;36mSimulation.simulation\u001b[1;34m(self, x, p, q, p_mask)\u001b[0m\n\u001b[0;32m    336\u001b[0m \u001b[38;5;28;01mwhile\u001b[39;00m \u001b[38;5;28;01mTrue\u001b[39;00m:\n\u001b[0;32m    337\u001b[0m     tstep \u001b[38;5;241m+\u001b[39m\u001b[38;5;241m=\u001b[39m \u001b[38;5;241m1\u001b[39m\n\u001b[1;32m--> 338\u001b[0m     x, p, q, p_mask \u001b[38;5;241m=\u001b[39m \u001b[38;5;28mself\u001b[39m\u001b[38;5;241m.\u001b[39mtime_step(x, p, q, p_mask, tstep)\n\u001b[0;32m    340\u001b[0m     \u001b[38;5;66;03m# if tstep == 800:\u001b[39;00m\n\u001b[0;32m    341\u001b[0m     \u001b[38;5;66;03m#     self.gamma = 0.0\u001b[39;00m\n\u001b[0;32m    343\u001b[0m     \u001b[38;5;28;01mif\u001b[39;00m tstep \u001b[38;5;241m%\u001b[39m \u001b[38;5;28mself\u001b[39m\u001b[38;5;241m.\u001b[39myield_every \u001b[38;5;241m==\u001b[39m \u001b[38;5;241m0\u001b[39m \u001b[38;5;129;01mor\u001b[39;00m \u001b[38;5;28mlen\u001b[39m(x) \u001b[38;5;241m>\u001b[39m \u001b[38;5;28mself\u001b[39m\u001b[38;5;241m.\u001b[39mmax_cells:\n",
      "File \u001b[1;32mc:\\Users\\s_ute\\OneDrive\\Dokumenter\\Uni\\Thesis\\NewKidneyGen\\KidneyGenAlphaMethod.py:296\u001b[0m, in \u001b[0;36mSimulation.time_step\u001b[1;34m(self, x, p, q, p_mask, tstep)\u001b[0m\n\u001b[0;32m    293\u001b[0m k \u001b[38;5;241m=\u001b[39m \u001b[38;5;28mmin\u001b[39m(k, \u001b[38;5;28mlen\u001b[39m(x) \u001b[38;5;241m-\u001b[39m \u001b[38;5;241m1\u001b[39m)\n\u001b[0;32m    295\u001b[0m \u001b[38;5;28;01mif\u001b[39;00m \u001b[38;5;28mself\u001b[39m\u001b[38;5;241m.\u001b[39mupdate_neighbors_bool(tstep, division):\n\u001b[1;32m--> 296\u001b[0m     d, idx \u001b[38;5;241m=\u001b[39m \u001b[38;5;28mself\u001b[39m\u001b[38;5;241m.\u001b[39mfind_potential_neighbours(x\u001b[38;5;241m.\u001b[39mdetach()\u001b[38;5;241m.\u001b[39mto(\u001b[38;5;124m\"\u001b[39m\u001b[38;5;124mcpu\u001b[39m\u001b[38;5;124m\"\u001b[39m)\u001b[38;5;241m.\u001b[39mnumpy(), k\u001b[38;5;241m=\u001b[39mk)\n\u001b[0;32m    297\u001b[0m     \u001b[38;5;28mself\u001b[39m\u001b[38;5;241m.\u001b[39midx \u001b[38;5;241m=\u001b[39m torch\u001b[38;5;241m.\u001b[39mtensor(idx, dtype\u001b[38;5;241m=\u001b[39mtorch\u001b[38;5;241m.\u001b[39mlong, device\u001b[38;5;241m=\u001b[39m\u001b[38;5;28mself\u001b[39m\u001b[38;5;241m.\u001b[39mdevice)\n\u001b[0;32m    298\u001b[0m     \u001b[38;5;28mself\u001b[39m\u001b[38;5;241m.\u001b[39md \u001b[38;5;241m=\u001b[39m torch\u001b[38;5;241m.\u001b[39mtensor(d, dtype\u001b[38;5;241m=\u001b[39m\u001b[38;5;28mself\u001b[39m\u001b[38;5;241m.\u001b[39mdtype, device\u001b[38;5;241m=\u001b[39m\u001b[38;5;28mself\u001b[39m\u001b[38;5;241m.\u001b[39mdevice)\n",
      "File \u001b[1;32mc:\\Users\\s_ute\\OneDrive\\Dokumenter\\Uni\\Thesis\\NewKidneyGen\\KidneyGenAlphaMethod.py:56\u001b[0m, in \u001b[0;36mSimulation.find_potential_neighbours\u001b[1;34m(x, k, distance_upper_bound, workers)\u001b[0m\n\u001b[0;32m     53\u001b[0m \u001b[38;5;129m@staticmethod\u001b[39m\n\u001b[0;32m     54\u001b[0m \u001b[38;5;28;01mdef\u001b[39;00m \u001b[38;5;21mfind_potential_neighbours\u001b[39m(x, k\u001b[38;5;241m=\u001b[39m\u001b[38;5;241m100\u001b[39m, distance_upper_bound\u001b[38;5;241m=\u001b[39mnp\u001b[38;5;241m.\u001b[39minf, workers\u001b[38;5;241m=\u001b[39m\u001b[38;5;241m-\u001b[39m\u001b[38;5;241m1\u001b[39m):\n\u001b[0;32m     55\u001b[0m     tree \u001b[38;5;241m=\u001b[39m cKDTree(x)\n\u001b[1;32m---> 56\u001b[0m     d, idx \u001b[38;5;241m=\u001b[39m tree\u001b[38;5;241m.\u001b[39mquery(x, k \u001b[38;5;241m+\u001b[39m \u001b[38;5;241m1\u001b[39m, distance_upper_bound\u001b[38;5;241m=\u001b[39mdistance_upper_bound, workers\u001b[38;5;241m=\u001b[39mworkers)\n\u001b[0;32m     57\u001b[0m     \u001b[38;5;28;01mreturn\u001b[39;00m d[:, \u001b[38;5;241m1\u001b[39m:], idx[:, \u001b[38;5;241m1\u001b[39m:]\n",
      "File \u001b[1;32m_ckdtree.pyx:828\u001b[0m, in \u001b[0;36mscipy.spatial._ckdtree.cKDTree.query\u001b[1;34m()\u001b[0m\n",
      "File \u001b[1;32m_ckdtree.pyx:1604\u001b[0m, in \u001b[0;36mscipy.spatial._ckdtree._run_threads\u001b[1;34m()\u001b[0m\n",
      "File \u001b[1;32mc:\\Users\\s_ute\\anaconda3\\envs\\masters_env\\Lib\\threading.py:962\u001b[0m, in \u001b[0;36mThread.start\u001b[1;34m(self)\u001b[0m\n\u001b[0;32m    960\u001b[0m         \u001b[38;5;28;01mdel\u001b[39;00m _limbo[\u001b[38;5;28mself\u001b[39m]\n\u001b[0;32m    961\u001b[0m     \u001b[38;5;28;01mraise\u001b[39;00m\n\u001b[1;32m--> 962\u001b[0m \u001b[38;5;28mself\u001b[39m\u001b[38;5;241m.\u001b[39m_started\u001b[38;5;241m.\u001b[39mwait()\n",
      "File \u001b[1;32mc:\\Users\\s_ute\\anaconda3\\envs\\masters_env\\Lib\\threading.py:622\u001b[0m, in \u001b[0;36mEvent.wait\u001b[1;34m(self, timeout)\u001b[0m\n\u001b[0;32m    620\u001b[0m signaled \u001b[38;5;241m=\u001b[39m \u001b[38;5;28mself\u001b[39m\u001b[38;5;241m.\u001b[39m_flag\n\u001b[0;32m    621\u001b[0m \u001b[38;5;28;01mif\u001b[39;00m \u001b[38;5;129;01mnot\u001b[39;00m signaled:\n\u001b[1;32m--> 622\u001b[0m     signaled \u001b[38;5;241m=\u001b[39m \u001b[38;5;28mself\u001b[39m\u001b[38;5;241m.\u001b[39m_cond\u001b[38;5;241m.\u001b[39mwait(timeout)\n\u001b[0;32m    623\u001b[0m \u001b[38;5;28;01mreturn\u001b[39;00m signaled\n",
      "File \u001b[1;32mc:\\Users\\s_ute\\anaconda3\\envs\\masters_env\\Lib\\threading.py:320\u001b[0m, in \u001b[0;36mCondition.wait\u001b[1;34m(self, timeout)\u001b[0m\n\u001b[0;32m    318\u001b[0m \u001b[38;5;28;01mtry\u001b[39;00m:    \u001b[38;5;66;03m# restore state no matter what (e.g., KeyboardInterrupt)\u001b[39;00m\n\u001b[0;32m    319\u001b[0m     \u001b[38;5;28;01mif\u001b[39;00m timeout \u001b[38;5;129;01mis\u001b[39;00m \u001b[38;5;28;01mNone\u001b[39;00m:\n\u001b[1;32m--> 320\u001b[0m         waiter\u001b[38;5;241m.\u001b[39macquire()\n\u001b[0;32m    321\u001b[0m         gotit \u001b[38;5;241m=\u001b[39m \u001b[38;5;28;01mTrue\u001b[39;00m\n\u001b[0;32m    322\u001b[0m     \u001b[38;5;28;01melse\u001b[39;00m:\n",
      "\u001b[1;31mKeyboardInterrupt\u001b[0m: "
     ]
    }
   ],
   "source": [
    "run_simulation(sim_dict=sim_dict)"
   ]
  },
  {
   "cell_type": "code",
   "execution_count": null,
   "metadata": {},
   "outputs": [],
   "source": []
  }
 ],
 "metadata": {
  "kernelspec": {
   "display_name": "masters_env",
   "language": "python",
   "name": "python3"
  },
  "language_info": {
   "codemirror_mode": {
    "name": "ipython",
    "version": 3
   },
   "file_extension": ".py",
   "mimetype": "text/x-python",
   "name": "python",
   "nbconvert_exporter": "python",
   "pygments_lexer": "ipython3",
   "version": "3.11.5"
  }
 },
 "nbformat": 4,
 "nbformat_minor": 2
}
