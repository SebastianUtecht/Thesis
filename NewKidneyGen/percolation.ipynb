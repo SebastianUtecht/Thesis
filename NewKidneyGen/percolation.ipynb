{
 "cells": [
  {
   "cell_type": "code",
   "execution_count": 1,
   "metadata": {},
   "outputs": [
    {
     "name": "stdout",
     "output_type": "stream",
     "text": [
      "cuda\n"
     ]
    }
   ],
   "source": [
    "from Metrics import get_percolation\n",
    "import numpy as np\n",
    "import matplotlib.pyplot as plt"
   ]
  },
  {
   "cell_type": "code",
   "execution_count": 2,
   "metadata": {},
   "outputs": [],
   "source": [
    "folder = 'data/sweet_data/size8000_conc0.6_0/data.npy'\n",
    "data = np.load(folder, allow_pickle=True)"
   ]
  },
  {
   "cell_type": "code",
   "execution_count": 3,
   "metadata": {},
   "outputs": [],
   "source": [
    "p_mask = data[0][-1]\n",
    "x      = data[1][-1]\n",
    "p      = data[2][-1]\n",
    "q      = data[-1][-1]"
   ]
  },
  {
   "cell_type": "code",
   "execution_count": 4,
   "metadata": {},
   "outputs": [
    {
     "ename": "IndexError",
     "evalue": "boolean index did not match indexed array along dimension 0; dimension is 3112 but corresponding boolean dimension is 8000",
     "output_type": "error",
     "traceback": [
      "\u001b[1;31m---------------------------------------------------------------------------\u001b[0m",
      "\u001b[1;31mIndexError\u001b[0m                                Traceback (most recent call last)",
      "Cell \u001b[1;32mIn[4], line 1\u001b[0m\n\u001b[1;32m----> 1\u001b[0m get_percolation(x, p_mask)\n",
      "File \u001b[1;32mc:\\Users\\s_ute\\OneDrive\\Dokumenter\\Uni\\Thesis\\NewKidneyGen\\Metrics.py:78\u001b[0m, in \u001b[0;36mget_percolation\u001b[1;34m(x, p_mask, seethru)\u001b[0m\n\u001b[0;32m     76\u001b[0m z_mask, polar_adj_arr \u001b[38;5;241m=\u001b[39m adj_lst(x, p_mask, seethru\u001b[38;5;241m=\u001b[39mseethru)\n\u001b[0;32m     77\u001b[0m n_polar_particles \u001b[38;5;241m=\u001b[39m polar_adj_arr\u001b[38;5;241m.\u001b[39mshape[\u001b[38;5;241m0\u001b[39m]\n\u001b[1;32m---> 78\u001b[0m polar_adj_arr \u001b[38;5;241m=\u001b[39m fix_polar_adj_arr(polar_adj_arr, p_mask, z_mask)\n\u001b[0;32m     79\u001b[0m edge_lst \u001b[38;5;241m=\u001b[39m make_edge_lst(polar_adj_arr)\n\u001b[0;32m     80\u001b[0m graph \u001b[38;5;241m=\u001b[39m nx\u001b[38;5;241m.\u001b[39mfrom_edgelist(edge_lst)\n",
      "File \u001b[1;32mc:\\Users\\s_ute\\OneDrive\\Dokumenter\\Uni\\Thesis\\NewKidneyGen\\Metrics.py:60\u001b[0m, in \u001b[0;36mfix_polar_adj_arr\u001b[1;34m(adj_arr, p_mask, z_mask)\u001b[0m\n\u001b[0;32m     59\u001b[0m \u001b[38;5;28;01mdef\u001b[39;00m \u001b[38;5;21mfix_polar_adj_arr\u001b[39m(adj_arr, p_mask, z_mask):\n\u001b[1;32m---> 60\u001b[0m     adj_arr[z_mask \u001b[38;5;241m==\u001b[39m \u001b[38;5;241m0\u001b[39m] \u001b[38;5;241m=\u001b[39m \u001b[38;5;241m-\u001b[39m\u001b[38;5;241m1\u001b[39m\n\u001b[0;32m     61\u001b[0m     polar_idx \u001b[38;5;241m=\u001b[39m np\u001b[38;5;241m.\u001b[39margwhere(p_mask \u001b[38;5;241m==\u001b[39m \u001b[38;5;241m1\u001b[39m)\u001b[38;5;241m.\u001b[39msqueeze()\n\u001b[0;32m     62\u001b[0m     adj_lst \u001b[38;5;241m=\u001b[39m [] \n",
      "\u001b[1;31mIndexError\u001b[0m: boolean index did not match indexed array along dimension 0; dimension is 3112 but corresponding boolean dimension is 8000"
     ]
    }
   ],
   "source": [
    "get_percolation(x, p_mask)"
   ]
  },
  {
   "cell_type": "code",
   "execution_count": null,
   "metadata": {},
   "outputs": [],
   "source": []
  }
 ],
 "metadata": {
  "kernelspec": {
   "display_name": "masters_env",
   "language": "python",
   "name": "python3"
  },
  "language_info": {
   "codemirror_mode": {
    "name": "ipython",
    "version": 3
   },
   "file_extension": ".py",
   "mimetype": "text/x-python",
   "name": "python",
   "nbconvert_exporter": "python",
   "pygments_lexer": "ipython3",
   "version": "3.11.5"
  }
 },
 "nbformat": 4,
 "nbformat_minor": 2
}
