{
 "cells": [
  {
   "cell_type": "code",
   "execution_count": 1,
   "metadata": {},
   "outputs": [],
   "source": [
    "from DataGeneration import *\n",
    "# from ProduceMCap import *\n",
    "from KidneyGenAlphaMethod import *\n",
    "# from KidneyGenForReal import *"
   ]
  },
  {
   "cell_type": "code",
   "execution_count": 2,
   "metadata": {},
   "outputs": [],
   "source": [
    "folder = \"data/u_bud_w_mcap/data.npy\"\n",
    "data = np.load(folder, allow_pickle=True)\n",
    "\n",
    "data = (data[0][-1], data[1][-1], data[2][-1], data[3][-1])"
   ]
  },
  {
   "cell_type": "code",
   "execution_count": 3,
   "metadata": {},
   "outputs": [],
   "source": [
    "sim_dict = {\n",
    "    'output_folder'     : f'testing_kidneygen_real',\n",
    "    'data'              : data,\n",
    "    'dt'                : 0.2,\n",
    "    'eta'               : 0.001,\n",
    "    'yield_steps'       : 1000,\n",
    "    'yield_every'       : 50,\n",
    "    'lambdas'           : [[0.2, 0, 0, 0],\n",
    "                            [0, 0.5, 0.48, 0.02],\n",
    "                            [0.3, 0, 0, 0],\n",
    "                            [0, 0.5, 0.4, 0.1],\n",
    "                            [0, 0.5, 0.4, 0.1]],\n",
    "    'UEC_l0'            : 0.1,\n",
    "    'pUEC_iREC_l0'      : 0.5,\n",
    "    'MPC_iREC_l0'       : 0.3,\n",
    "    'gamma'             : 0.0,\n",
    "    'vesicle_time'      : 30_000,\n",
    "    'seethru'           : 1,\n",
    "    'seethru_stop'      : 100_000,\n",
    "    'alphas'            : (0.2, [0.3, 0.3], [0.5, 0.5]),\n",
    "    'betas'             : [0.0, 0.0, 0.0, 0.0, 0.0],\n",
    "    'activation_sphere' : ([0,15,12.5], 15),\n",
    "    'pit_sphere'        : ([0,15, 12.5], 12,5),\n",
    "    'UEC_bound_strength': 5.0,\n",
    "    'recruitment_stop'  : 100_000,\n",
    "    'REC_IC_ratio'      : 1.0,\n",
    "    'iREC_time_arr'     : [1000, 2000, 1000],\n",
    "    'max_cells'         : 10_000,\n",
    "    'prolif_delay'      : 0,\n",
    "    'abs_s2s3'          : True,\n",
    "    'min0_s1'           : False,\n",
    "    'init_k'            : 100,\n",
    "    'random_seed'       : 42,\n",
    "    'device'            : 'cuda',\n",
    "    'dtype'             : torch.float,\n",
    "    'notes'             : f'testing_comma_shape',\n",
    "    'avg_q'             : False,\n",
    "}"
   ]
  },
  {
   "cell_type": "code",
   "execution_count": 4,
   "metadata": {},
   "outputs": [
    {
     "name": "stdout",
     "output_type": "stream",
     "text": [
      "Starting simulation with notes:\n",
      "testing_comma_shape\n",
      "torch.Size([3750, 3, 3])\n",
      "torch.Size([3750, 3, 3])\n",
      "torch.Size([3750, 3])\n",
      "Simulation done, saved 1000 datapoints)   (5252 cells)\n",
      "Took 1994.2592825889587 seconds\n"
     ]
    }
   ],
   "source": [
    "run_simulation(sim_dict)"
   ]
  },
  {
   "cell_type": "code",
   "execution_count": 5,
   "metadata": {},
   "outputs": [],
   "source": [
    "sim_dict = {\n",
    "    'output_folder'     : f'testing_comma_shape',\n",
    "    'data'              : data,\n",
    "    'dt'                : 0.2,\n",
    "    'eta'               : 1e-5,\n",
    "    'yield_steps'       : 1000,\n",
    "    'yield_every'       : 10,\n",
    "    'lambdas'           : [0.4 ,0.4, 0.50, 0.40, 0.10],\n",
    "    'pre_lambdas'       : [0.4, 0.4, 1],\n",
    "    'gamma'             : 0.0,\n",
    "    'gauss_multiplier'  : 0.04,\n",
    "    'warmup_dur'        : 0,\n",
    "    'pre_polar_dur'     : 1000,\n",
    "    'vesicle_time'      : 1000,\n",
    "    'seethru'           : 0,\n",
    "    'alpha'             : 0.5,\n",
    "    'betas'             : (0.0,0.001),\n",
    "    'max_cells'         : 10_000,\n",
    "    'prolif_delay'      : 0,\n",
    "    'bound_radius'      : None,\n",
    "    'abs_s2s3'          : True,\n",
    "    'min0_s1'           : False,\n",
    "    'init_k'            : 100,\n",
    "    'random_seed'       : 42,\n",
    "    'device'            : 'cuda',\n",
    "    'dtype'             : torch.float,\n",
    "    'notes'             : f'testing_comma_shape',\n",
    "    'avg_q'             : False,\n",
    "}\n"
   ]
  },
  {
   "cell_type": "code",
   "execution_count": null,
   "metadata": {},
   "outputs": [],
   "source": []
  }
 ],
 "metadata": {
  "kernelspec": {
   "display_name": "masters_env",
   "language": "python",
   "name": "python3"
  },
  "language_info": {
   "codemirror_mode": {
    "name": "ipython",
    "version": 3
   },
   "file_extension": ".py",
   "mimetype": "text/x-python",
   "name": "python",
   "nbconvert_exporter": "python",
   "pygments_lexer": "ipython3",
   "version": "3.11.5"
  }
 },
 "nbformat": 4,
 "nbformat_minor": 2
}
