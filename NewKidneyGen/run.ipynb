{
 "cells": [
  {
   "cell_type": "markdown",
   "metadata": {},
   "source": [
    "### Imports"
   ]
  },
  {
   "cell_type": "code",
   "execution_count": 1,
   "metadata": {},
   "outputs": [],
   "source": [
    "from DataGeneration import *\n",
    "# from KidneyGenInVivoGradTube import\n",
    "from KidneyGenInVivoGradTubePlayground import *"
   ]
  },
  {
   "cell_type": "markdown",
   "metadata": {},
   "source": [
    "### Testing Playground on simple sphere"
   ]
  },
  {
   "cell_type": "code",
   "execution_count": 10,
   "metadata": {},
   "outputs": [
    {
     "name": "stdout",
     "output_type": "stream",
     "text": [
      "Starting simulation with notes:\n",
      "no_bound_test\n",
      "Simulation done, saved 1000 datapoints)   (1344 cells)\n",
      "Took 745.7113306522369 seconds\n"
     ]
    }
   ],
   "source": [
    "# data = np.load('data/test_sphere/data.npy', allow_pickle=True)\n",
    "# data = (data[0][-1]*3, data[1][-1], data[2][-1], data[3][-1])\n",
    "\n",
    "data = np.load('data/playground_data.npy', allow_pickle=True)\n",
    "sim_dict = {\n",
    "    'output_folder'     : f'no_bound_test',\n",
    "    'data'              : data,\n",
    "    'dt'                : 0.2,\n",
    "    'eta'               : 0.05,\n",
    "    'not_polar_eta'     : 0.01, \n",
    "    'yield_steps'       : 1000,\n",
    "    'yield_every'       : 20,\n",
    "    'lambdas'           : [ [0.3, 0, 0, 0],\n",
    "                            [0, 0.5, 0.48, 0.02],\n",
    "                            [0.3, 0, 0, 0],\n",
    "                            [0, 1, 0.0, 0.0],\n",
    "                            [0, 0.50, 0.42, 0.08]],\n",
    "    'pUEC_iREC_l0'      : 0.5, #NOT IN USE \n",
    "    'UEC_l0'            : 0.3,\n",
    "    'MPC_iREC_l0'       : 0.5,\n",
    "    'UEC_REC_str'       : 0.3,\n",
    "    'pUEC_REC_str'      : 0.8,\n",
    "    'l3_pUEC_REC_str'   : 0.8,\n",
    "    'iREC_nopolar_attr_str'     : None,\n",
    "    'low_attach_ives'   : False,\n",
    "    'gamma'             : .01,\n",
    "    'vesicle_time'      : 1_000_000,\n",
    "    'seethru'           : 0,\n",
    "    'seethru_stop'      : 1_000_000,\n",
    "    'alphas'            : (0.2, 0.2 ,0.5),\n",
    "    'betas'             : [0.0, 0.0, 0.0, 0.0, 0.0],\n",
    "    'activation_sphere' : ([0, 6, 3.5], 15),\n",
    "    'pit_sphere'        : ([0, 6, 3.5], 8),\n",
    "    'bound_type'        : None,\n",
    "    'bound_deats'       : None, #([0, -3.5, 10], 12, 0.002),     #([0,-12.5,17.5], 30,  #sphere 1\n",
    "                                                        # [30,30,30],     5,   #sphere 2      \n",
    "                                                        # 1),\n",
    "    'recruitment_stop'  : 1_000_000,\n",
    "    'REC_IC_ratio'      : 1.0,\n",
    "    'iREC_time_arr'     : [0, 0, 0, 0, 500],\n",
    "    'max_cells'         : 10_000,\n",
    "    'prolif_delay'      : 0,\n",
    "    'abs_s2s3'          : True,\n",
    "    'UEC_update_strength'   : 0.0,\n",
    "    'tube_wall_str'     : None,\n",
    "    'diff_coef'         : 1.5,\n",
    "    'WNT_str'           : 1,\n",
    "    'WNT_c'             : 10,\n",
    "    'init_k'            : 100,\n",
    "    'random_seed'       : 42,\n",
    "    'device'            : 'cuda',\n",
    "    'dtype'             : torch.float,\n",
    "    'notes'             : f'no_bound_test',\n",
    "    'avg_q'             : False,\n",
    "    'verbose'           : True,\n",
    "    'num_partitions'    : 5,\n",
    "    'partition_delay'   : 500,\n",
    "}  \n",
    "    \n",
    "run_simulation(sim_dict)"
   ]
  },
  {
   "cell_type": "code",
   "execution_count": 4,
   "metadata": {},
   "outputs": [
    {
     "name": "stdout",
     "output_type": "stream",
     "text": [
      "Starting simulation with notes:\n",
      "cube_bound_1\n",
      "Running 502 of 1000   (10040 of 20000)   (690 cells)\r"
     ]
    },
    {
     "ename": "KeyboardInterrupt",
     "evalue": "",
     "output_type": "error",
     "traceback": [
      "\u001b[1;31m---------------------------------------------------------------------------\u001b[0m",
      "\u001b[1;31mKeyboardInterrupt\u001b[0m                         Traceback (most recent call last)",
      "Cell \u001b[1;32mIn[4], line 65\u001b[0m\n\u001b[0;32m      9\u001b[0m data \u001b[38;5;241m=\u001b[39m np\u001b[38;5;241m.\u001b[39mload(\u001b[38;5;124m'\u001b[39m\u001b[38;5;124mdata/playground_data_smaller.npy\u001b[39m\u001b[38;5;124m'\u001b[39m, allow_pickle\u001b[38;5;241m=\u001b[39m\u001b[38;5;28;01mTrue\u001b[39;00m)\n\u001b[0;32m     10\u001b[0m sim_dict \u001b[38;5;241m=\u001b[39m {\n\u001b[0;32m     11\u001b[0m     \u001b[38;5;124m'\u001b[39m\u001b[38;5;124moutput_folder\u001b[39m\u001b[38;5;124m'\u001b[39m     : \u001b[38;5;124mf\u001b[39m\u001b[38;5;124m'\u001b[39m\u001b[38;5;124mcube_bound_1\u001b[39m\u001b[38;5;124m'\u001b[39m,\n\u001b[0;32m     12\u001b[0m     \u001b[38;5;124m'\u001b[39m\u001b[38;5;124mdata\u001b[39m\u001b[38;5;124m'\u001b[39m              : data,\n\u001b[1;32m   (...)\u001b[0m\n\u001b[0;32m     62\u001b[0m     \u001b[38;5;124m'\u001b[39m\u001b[38;5;124mverbose\u001b[39m\u001b[38;5;124m'\u001b[39m           : \u001b[38;5;28;01mTrue\u001b[39;00m,\n\u001b[0;32m     63\u001b[0m }  \n\u001b[1;32m---> 65\u001b[0m run_simulation(sim_dict)\n",
      "File \u001b[1;32mc:\\Users\\s_ute\\OneDrive\\Dokumenter\\Uni\\Thesis\\NewKidneyGen\\KidneyGenInVivoGradTubePlayground.py:791\u001b[0m, in \u001b[0;36mrun_simulation\u001b[1;34m(sim_dict)\u001b[0m\n\u001b[0;32m    788\u001b[0m i \u001b[38;5;241m=\u001b[39m \u001b[38;5;241m0\u001b[39m\n\u001b[0;32m    789\u001b[0m t1 \u001b[38;5;241m=\u001b[39m time()\n\u001b[1;32m--> 791\u001b[0m \u001b[38;5;28;01mfor\u001b[39;00m xx, pp, qq, pp_mask \u001b[38;5;129;01min\u001b[39;00m itertools\u001b[38;5;241m.\u001b[39mislice(runner, yield_steps):\n\u001b[0;32m    792\u001b[0m     i \u001b[38;5;241m+\u001b[39m\u001b[38;5;241m=\u001b[39m \u001b[38;5;241m1\u001b[39m\n\u001b[0;32m    793\u001b[0m     \u001b[38;5;28;01mif\u001b[39;00m verbose:\n",
      "File \u001b[1;32mc:\\Users\\s_ute\\OneDrive\\Dokumenter\\Uni\\Thesis\\NewKidneyGen\\KidneyGenInVivoGradTubePlayground.py:629\u001b[0m, in \u001b[0;36mSimulation.simulation\u001b[1;34m(self, x, p, q, p_mask)\u001b[0m\n\u001b[0;32m    627\u001b[0m \u001b[38;5;28;01mwhile\u001b[39;00m \u001b[38;5;28;01mTrue\u001b[39;00m:\n\u001b[0;32m    628\u001b[0m     tstep \u001b[38;5;241m+\u001b[39m\u001b[38;5;241m=\u001b[39m \u001b[38;5;241m1\u001b[39m\n\u001b[1;32m--> 629\u001b[0m     x, p, q, p_mask, l, a \u001b[38;5;241m=\u001b[39m \u001b[38;5;28mself\u001b[39m\u001b[38;5;241m.\u001b[39mtime_step(x, p, q, p_mask, l, a, tstep)\n\u001b[0;32m    631\u001b[0m     \u001b[38;5;28;01mif\u001b[39;00m tstep \u001b[38;5;241m%\u001b[39m \u001b[38;5;28mself\u001b[39m\u001b[38;5;241m.\u001b[39myield_every \u001b[38;5;241m==\u001b[39m \u001b[38;5;241m0\u001b[39m \u001b[38;5;129;01mor\u001b[39;00m \u001b[38;5;28mlen\u001b[39m(x) \u001b[38;5;241m>\u001b[39m \u001b[38;5;28mself\u001b[39m\u001b[38;5;241m.\u001b[39mmax_cells:\n\u001b[0;32m    632\u001b[0m         xx \u001b[38;5;241m=\u001b[39m x\u001b[38;5;241m.\u001b[39mdetach()\u001b[38;5;241m.\u001b[39mto(\u001b[38;5;124m\"\u001b[39m\u001b[38;5;124mcpu\u001b[39m\u001b[38;5;124m\"\u001b[39m)\u001b[38;5;241m.\u001b[39mnumpy()\u001b[38;5;241m.\u001b[39mcopy()\n",
      "File \u001b[1;32mc:\\Users\\s_ute\\OneDrive\\Dokumenter\\Uni\\Thesis\\NewKidneyGen\\KidneyGenInVivoGradTubePlayground.py:532\u001b[0m, in \u001b[0;36mSimulation.time_step\u001b[1;34m(self, x, p, q, p_mask, l, a, tstep)\u001b[0m\n\u001b[0;32m    530\u001b[0m cells_w_polarity \u001b[38;5;241m=\u001b[39m torch\u001b[38;5;241m.\u001b[39msum(l[:,\u001b[38;5;241m1\u001b[39m:], dim\u001b[38;5;241m=\u001b[39m\u001b[38;5;241m1\u001b[39m) \u001b[38;5;241m>\u001b[39m \u001b[38;5;241m0.0\u001b[39m\n\u001b[0;32m    531\u001b[0m p[cells_w_polarity] \u001b[38;5;241m/\u001b[39m\u001b[38;5;241m=\u001b[39m torch\u001b[38;5;241m.\u001b[39msqrt(torch\u001b[38;5;241m.\u001b[39msum(p[cells_w_polarity] \u001b[38;5;241m*\u001b[39m\u001b[38;5;241m*\u001b[39m \u001b[38;5;241m2\u001b[39m, dim\u001b[38;5;241m=\u001b[39m\u001b[38;5;241m1\u001b[39m))[:, \u001b[38;5;28;01mNone\u001b[39;00m]          \u001b[38;5;66;03m# Normalizing p. Only the non-zero polarities are considered.\u001b[39;00m\n\u001b[1;32m--> 532\u001b[0m q[cells_w_polarity] \u001b[38;5;241m/\u001b[39m\u001b[38;5;241m=\u001b[39m torch\u001b[38;5;241m.\u001b[39msqrt(torch\u001b[38;5;241m.\u001b[39msum(q[cells_w_polarity] \u001b[38;5;241m*\u001b[39m\u001b[38;5;241m*\u001b[39m \u001b[38;5;241m2\u001b[39m, dim\u001b[38;5;241m=\u001b[39m\u001b[38;5;241m1\u001b[39m))[:, \u001b[38;5;28;01mNone\u001b[39;00m]          \u001b[38;5;66;03m# Normalizing q. Only the non-zero polarities are considered.\u001b[39;00m\n\u001b[0;32m    534\u001b[0m p[\u001b[38;5;241m~\u001b[39mcells_w_polarity] \u001b[38;5;241m=\u001b[39m torch\u001b[38;5;241m.\u001b[39mtensor([\u001b[38;5;241m0\u001b[39m,\u001b[38;5;241m0\u001b[39m,\u001b[38;5;241m0\u001b[39m], device\u001b[38;5;241m=\u001b[39m\u001b[38;5;28mself\u001b[39m\u001b[38;5;241m.\u001b[39mdevice, dtype\u001b[38;5;241m=\u001b[39m\u001b[38;5;28mself\u001b[39m\u001b[38;5;241m.\u001b[39mdtype)\n\u001b[0;32m    535\u001b[0m q[\u001b[38;5;241m~\u001b[39mcells_w_polarity] \u001b[38;5;241m=\u001b[39m torch\u001b[38;5;241m.\u001b[39mtensor([\u001b[38;5;241m0\u001b[39m,\u001b[38;5;241m0\u001b[39m,\u001b[38;5;241m0\u001b[39m], device\u001b[38;5;241m=\u001b[39m\u001b[38;5;28mself\u001b[39m\u001b[38;5;241m.\u001b[39mdevice, dtype\u001b[38;5;241m=\u001b[39m\u001b[38;5;28mself\u001b[39m\u001b[38;5;241m.\u001b[39mdtype)\n",
      "File \u001b[1;32mc:\\Users\\s_ute\\anaconda3\\envs\\masters_env\\Lib\\site-packages\\torch\\_tensor.py:40\u001b[0m, in \u001b[0;36m_handle_torch_function_and_wrap_type_error_to_not_implemented.<locals>.wrapped\u001b[1;34m(*args, **kwargs)\u001b[0m\n\u001b[0;32m     38\u001b[0m     \u001b[38;5;28;01mif\u001b[39;00m has_torch_function(args):\n\u001b[0;32m     39\u001b[0m         \u001b[38;5;28;01mreturn\u001b[39;00m handle_torch_function(wrapped, args, \u001b[38;5;241m*\u001b[39margs, \u001b[38;5;241m*\u001b[39m\u001b[38;5;241m*\u001b[39mkwargs)\n\u001b[1;32m---> 40\u001b[0m     \u001b[38;5;28;01mreturn\u001b[39;00m f(\u001b[38;5;241m*\u001b[39margs, \u001b[38;5;241m*\u001b[39m\u001b[38;5;241m*\u001b[39mkwargs)\n\u001b[0;32m     41\u001b[0m \u001b[38;5;28;01mexcept\u001b[39;00m \u001b[38;5;167;01mTypeError\u001b[39;00m:\n\u001b[0;32m     42\u001b[0m     \u001b[38;5;28;01mreturn\u001b[39;00m \u001b[38;5;28mNotImplemented\u001b[39m\n",
      "\u001b[1;31mKeyboardInterrupt\u001b[0m: "
     ]
    }
   ],
   "source": [
    "## FOR SAFEKEEPING ###\n",
    "\n",
    "\n",
    "\n",
    "# data = np.load('data/test_sphere_smaller/data.npy', allow_pickle=True)\n",
    "# data = (data[0][-1]*3, data[1][-1], data[2][-1], data[3][-1])\n",
    "\n",
    "\n",
    "data = np.load('data/playground_data_smaller.npy', allow_pickle=True)\n",
    "sim_dict = {\n",
    "    'output_folder'     : f'cube_bound_1',\n",
    "    'data'              : data,\n",
    "    'dt'                : 0.2,\n",
    "    'eta'               : 0.05,\n",
    "    'not_polar_eta'     : 0.01, \n",
    "    'yield_steps'       : 1000,\n",
    "    'yield_every'       : 20,\n",
    "    'lambdas'           : [ [0.3, 0, 0, 0],\n",
    "                            [0, 0.5, 0.48, 0.02],\n",
    "                            [0.3, 0, 0, 0],\n",
    "                            [0, 1, 0.0, 0.0],\n",
    "                            [0, 0.50, 0.42, 0.08]],\n",
    "    'pUEC_iREC_l0'      : 0.5, #NOT IN USE \n",
    "    'UEC_l0'            : 0.3,\n",
    "    'MPC_iREC_l0'       : 0.5,\n",
    "    'UEC_REC_str'       : 0.3,\n",
    "    'pUEC_REC_str'      : 0.8,\n",
    "    'l3_pUEC_REC_str'   : 0.8,\n",
    "    'iREC_nopolar_attr_str'     : None,\n",
    "    'low_attach_ives'   : False,\n",
    "    'gamma'             : .01,\n",
    "    'vesicle_time'      : 1_000_000,\n",
    "    'seethru'           : 0,\n",
    "    'seethru_stop'      : 1_000_000,\n",
    "    'alphas'            : (0.2, 0.2 ,0.5),\n",
    "    'betas'             : [0.0, 0.0, 0.0, 0.0, 0.0],\n",
    "    'activation_sphere' : ([0, 7, 0], 10),\n",
    "    'pit_sphere'        : ([0, 7, 0], 7),\n",
    "    'bound_type'        : 'cube',\n",
    "    'bound_deats'       : [[0, 5, 5],[2.5, 10, 20], 0.2],                                       #([0, -3.5, 10], 12, 0.002),     #([0,-12.5,17.5], 30,  #sphere 1\n",
    "                                                                    # [30,30,30],     5,   #sphere 2      \n",
    "                                                                    # 1),\n",
    "    'recruitment_stop'  : 1_000_000,\n",
    "    'REC_IC_ratio'      : 1.0,\n",
    "    'iREC_time_arr'     : [0, 0, 0, 0, 500],\n",
    "    'max_cells'         : 10_000,\n",
    "    'prolif_delay'      : 0,\n",
    "    'abs_s2s3'          : True,\n",
    "    'UEC_update_strength'   : 0.0,\n",
    "    'tube_wall_str'     : None,\n",
    "    'diff_coef'         : 1.5,\n",
    "    'WNT_str'           : 1,\n",
    "    'WNT_c'             : 10,\n",
    "    'init_k'            : 100,\n",
    "    'random_seed'       : 42,\n",
    "    'device'            : 'cuda',\n",
    "    'dtype'             : torch.float,\n",
    "    'notes'             : f'cube_bound_1',\n",
    "    'avg_q'             : False,\n",
    "    'num_partitions'    : 5,\n",
    "    'partition_delay'   : 500,\n",
    "    'verbose'           : True,\n",
    "}  \n",
    "    \n",
    "run_simulation(sim_dict)"
   ]
  },
  {
   "cell_type": "markdown",
   "metadata": {},
   "source": [
    "### Running on mCap data"
   ]
  },
  {
   "cell_type": "code",
   "execution_count": 3,
   "metadata": {},
   "outputs": [
    {
     "name": "stdout",
     "output_type": "stream",
     "text": [
      "Starting simulation with notes:\n",
      "primed_MPC_0\n",
      "Running 134 of 2000   (134 of 2000)   (4001 cells)\r"
     ]
    },
    {
     "ename": "KeyboardInterrupt",
     "evalue": "",
     "output_type": "error",
     "traceback": [
      "\u001b[1;31m---------------------------------------------------------------------------\u001b[0m",
      "\u001b[1;31mKeyboardInterrupt\u001b[0m                         Traceback (most recent call last)",
      "Cell \u001b[1;32mIn[3], line 59\u001b[0m\n\u001b[0;32m      4\u001b[0m data \u001b[38;5;241m=\u001b[39m np\u001b[38;5;241m.\u001b[39mload(\u001b[38;5;124m'\u001b[39m\u001b[38;5;124mdata/ubud_mcap_final.npy\u001b[39m\u001b[38;5;124m'\u001b[39m, allow_pickle\u001b[38;5;241m=\u001b[39m\u001b[38;5;28;01mTrue\u001b[39;00m)\n\u001b[0;32m      6\u001b[0m sim_dict \u001b[38;5;241m=\u001b[39m {\n\u001b[0;32m      7\u001b[0m     \u001b[38;5;124m'\u001b[39m\u001b[38;5;124moutput_folder\u001b[39m\u001b[38;5;124m'\u001b[39m     : \u001b[38;5;124mf\u001b[39m\u001b[38;5;124m'\u001b[39m\u001b[38;5;124mprimed_MPC_0\u001b[39m\u001b[38;5;124m'\u001b[39m,\n\u001b[0;32m      8\u001b[0m     \u001b[38;5;124m'\u001b[39m\u001b[38;5;124mdata\u001b[39m\u001b[38;5;124m'\u001b[39m              : data,\n\u001b[1;32m   (...)\u001b[0m\n\u001b[0;32m     56\u001b[0m     \u001b[38;5;124m'\u001b[39m\u001b[38;5;124mverbose\u001b[39m\u001b[38;5;124m'\u001b[39m           : \u001b[38;5;28;01mTrue\u001b[39;00m\n\u001b[0;32m     57\u001b[0m }\n\u001b[1;32m---> 59\u001b[0m run_simulation(sim_dict\u001b[38;5;241m=\u001b[39msim_dict)\n",
      "File \u001b[1;32mc:\\Users\\s_ute\\OneDrive\\Dokumenter\\Uni\\Thesis\\NewKidneyGen\\KidneyGenInVivoGradTubeNewRecruitment.py:794\u001b[0m, in \u001b[0;36mrun_simulation\u001b[1;34m(sim_dict)\u001b[0m\n\u001b[0;32m    791\u001b[0m i \u001b[38;5;241m=\u001b[39m \u001b[38;5;241m0\u001b[39m\n\u001b[0;32m    792\u001b[0m t1 \u001b[38;5;241m=\u001b[39m time()\n\u001b[1;32m--> 794\u001b[0m \u001b[38;5;28;01mfor\u001b[39;00m xx, pp, qq, pp_mask \u001b[38;5;129;01min\u001b[39;00m itertools\u001b[38;5;241m.\u001b[39mislice(runner, yield_steps):\n\u001b[0;32m    795\u001b[0m     i \u001b[38;5;241m+\u001b[39m\u001b[38;5;241m=\u001b[39m \u001b[38;5;241m1\u001b[39m\n\u001b[0;32m    796\u001b[0m     \u001b[38;5;28;01mif\u001b[39;00m verbose:\n",
      "File \u001b[1;32mc:\\Users\\s_ute\\OneDrive\\Dokumenter\\Uni\\Thesis\\NewKidneyGen\\KidneyGenInVivoGradTubeNewRecruitment.py:632\u001b[0m, in \u001b[0;36mSimulation.simulation\u001b[1;34m(self, x, p, q, p_mask)\u001b[0m\n\u001b[0;32m    630\u001b[0m \u001b[38;5;28;01mwhile\u001b[39;00m \u001b[38;5;28;01mTrue\u001b[39;00m:\n\u001b[0;32m    631\u001b[0m     tstep \u001b[38;5;241m+\u001b[39m\u001b[38;5;241m=\u001b[39m \u001b[38;5;241m1\u001b[39m\n\u001b[1;32m--> 632\u001b[0m     x, p, q, p_mask, l, a \u001b[38;5;241m=\u001b[39m \u001b[38;5;28mself\u001b[39m\u001b[38;5;241m.\u001b[39mtime_step(x, p, q, p_mask, l, a, tstep)\n\u001b[0;32m    634\u001b[0m     \u001b[38;5;28;01mif\u001b[39;00m tstep \u001b[38;5;241m%\u001b[39m \u001b[38;5;28mself\u001b[39m\u001b[38;5;241m.\u001b[39myield_every \u001b[38;5;241m==\u001b[39m \u001b[38;5;241m0\u001b[39m \u001b[38;5;129;01mor\u001b[39;00m \u001b[38;5;28mlen\u001b[39m(x) \u001b[38;5;241m>\u001b[39m \u001b[38;5;28mself\u001b[39m\u001b[38;5;241m.\u001b[39mmax_cells:\n\u001b[0;32m    635\u001b[0m         xx \u001b[38;5;241m=\u001b[39m x\u001b[38;5;241m.\u001b[39mdetach()\u001b[38;5;241m.\u001b[39mto(\u001b[38;5;124m\"\u001b[39m\u001b[38;5;124mcpu\u001b[39m\u001b[38;5;124m\"\u001b[39m)\u001b[38;5;241m.\u001b[39mnumpy()\u001b[38;5;241m.\u001b[39mcopy()\n",
      "File \u001b[1;32mc:\\Users\\s_ute\\OneDrive\\Dokumenter\\Uni\\Thesis\\NewKidneyGen\\KidneyGenInVivoGradTubeNewRecruitment.py:517\u001b[0m, in \u001b[0;36mSimulation.time_step\u001b[1;34m(self, x, p, q, p_mask, l, a, tstep)\u001b[0m\n\u001b[0;32m    514\u001b[0m     q[\u001b[38;5;241m~\u001b[39mcells_w_polarity] \u001b[38;5;241m=\u001b[39m torch\u001b[38;5;241m.\u001b[39mtensor([\u001b[38;5;241m0\u001b[39m,\u001b[38;5;241m0\u001b[39m,\u001b[38;5;241m0\u001b[39m], device\u001b[38;5;241m=\u001b[39m\u001b[38;5;28mself\u001b[39m\u001b[38;5;241m.\u001b[39mdevice, dtype\u001b[38;5;241m=\u001b[39m\u001b[38;5;28mself\u001b[39m\u001b[38;5;241m.\u001b[39mdtype)\n\u001b[0;32m    516\u001b[0m \u001b[38;5;66;03m# Calculate potential\u001b[39;00m\n\u001b[1;32m--> 517\u001b[0m V, \u001b[38;5;28mself\u001b[39m\u001b[38;5;241m.\u001b[39mtrue_neighbour_max, idx \u001b[38;5;241m=\u001b[39m \u001b[38;5;28mself\u001b[39m\u001b[38;5;241m.\u001b[39mpotential(x, p, q, p_mask, l, a, idx, d, tstep\u001b[38;5;241m=\u001b[39mtstep)\n\u001b[0;32m    519\u001b[0m \u001b[38;5;66;03m# Backpropagation\u001b[39;00m\n\u001b[0;32m    520\u001b[0m V\u001b[38;5;241m.\u001b[39mbackward()\n",
      "File \u001b[1;32mc:\\Users\\s_ute\\OneDrive\\Dokumenter\\Uni\\Thesis\\NewKidneyGen\\KidneyGenInVivoGradTubeNewRecruitment.py:400\u001b[0m, in \u001b[0;36mSimulation.potential\u001b[1;34m(self, x, p, q, p_mask, l, a, idx, d, tstep)\u001b[0m\n\u001b[0;32m    397\u001b[0m interactions_w_polarity \u001b[38;5;241m=\u001b[39m torch\u001b[38;5;241m.\u001b[39mlogical_and(polar_mask0, polar_mask1)\n\u001b[0;32m    399\u001b[0m pi_tilde[interactions_w_polarity] \u001b[38;5;241m=\u001b[39m pi_tilde[interactions_w_polarity]\u001b[38;5;241m/\u001b[39mtorch\u001b[38;5;241m.\u001b[39msqrt(torch\u001b[38;5;241m.\u001b[39msum(pi_tilde[interactions_w_polarity] \u001b[38;5;241m*\u001b[39m\u001b[38;5;241m*\u001b[39m \u001b[38;5;241m2\u001b[39m, dim\u001b[38;5;241m=\u001b[39m\u001b[38;5;241m1\u001b[39m))[:, \u001b[38;5;28;01mNone\u001b[39;00m]               \u001b[38;5;66;03m# The p-tildes are normalized\u001b[39;00m\n\u001b[1;32m--> 400\u001b[0m pj_tilde[interactions_w_polarity] \u001b[38;5;241m=\u001b[39m pj_tilde[interactions_w_polarity]\u001b[38;5;241m/\u001b[39mtorch\u001b[38;5;241m.\u001b[39msqrt(torch\u001b[38;5;241m.\u001b[39msum(pj_tilde[interactions_w_polarity] \u001b[38;5;241m*\u001b[39m\u001b[38;5;241m*\u001b[39m \u001b[38;5;241m2\u001b[39m, dim\u001b[38;5;241m=\u001b[39m\u001b[38;5;241m1\u001b[39m))[:, \u001b[38;5;28;01mNone\u001b[39;00m]\n\u001b[0;32m    402\u001b[0m S1 \u001b[38;5;241m=\u001b[39m torch\u001b[38;5;241m.\u001b[39msum(torch\u001b[38;5;241m.\u001b[39mcross(pj_tilde, dx, dim\u001b[38;5;241m=\u001b[39m\u001b[38;5;241m2\u001b[39m) \u001b[38;5;241m*\u001b[39m torch\u001b[38;5;241m.\u001b[39mcross(pi_tilde, dx, dim\u001b[38;5;241m=\u001b[39m\u001b[38;5;241m2\u001b[39m), dim\u001b[38;5;241m=\u001b[39m\u001b[38;5;241m2\u001b[39m)            \u001b[38;5;66;03m# Calculating S1 (The ABP-position part of S). Scalar for each particle-interaction. Meaning we get array of size (n, m) , m being the max number of nearest neighbors for a particle\u001b[39;00m\n\u001b[0;32m    403\u001b[0m S2 \u001b[38;5;241m=\u001b[39m torch\u001b[38;5;241m.\u001b[39msum(torch\u001b[38;5;241m.\u001b[39mcross(pi_tilde, qi, dim\u001b[38;5;241m=\u001b[39m\u001b[38;5;241m2\u001b[39m) \u001b[38;5;241m*\u001b[39m torch\u001b[38;5;241m.\u001b[39mcross(pj_tilde, qj, dim\u001b[38;5;241m=\u001b[39m\u001b[38;5;241m2\u001b[39m), dim\u001b[38;5;241m=\u001b[39m\u001b[38;5;241m2\u001b[39m)            \u001b[38;5;66;03m# Calculating S2 (The ABP-PCP part of S).\u001b[39;00m\n",
      "File \u001b[1;32mc:\\Users\\s_ute\\anaconda3\\envs\\masters_env\\Lib\\site-packages\\torch\\_tensor.py:34\u001b[0m, in \u001b[0;36m_handle_torch_function_and_wrap_type_error_to_not_implemented.<locals>.wrapped\u001b[1;34m(*args, **kwargs)\u001b[0m\n\u001b[0;32m     31\u001b[0m \u001b[38;5;28;01mdef\u001b[39;00m \u001b[38;5;21m_handle_torch_function_and_wrap_type_error_to_not_implemented\u001b[39m(f):\n\u001b[0;32m     32\u001b[0m     assigned \u001b[38;5;241m=\u001b[39m functools\u001b[38;5;241m.\u001b[39mWRAPPER_ASSIGNMENTS\n\u001b[1;32m---> 34\u001b[0m     \u001b[38;5;129m@functools\u001b[39m\u001b[38;5;241m.\u001b[39mwraps(f, assigned\u001b[38;5;241m=\u001b[39massigned)\n\u001b[0;32m     35\u001b[0m     \u001b[38;5;28;01mdef\u001b[39;00m \u001b[38;5;21mwrapped\u001b[39m(\u001b[38;5;241m*\u001b[39margs, \u001b[38;5;241m*\u001b[39m\u001b[38;5;241m*\u001b[39mkwargs):\n\u001b[0;32m     36\u001b[0m         \u001b[38;5;28;01mtry\u001b[39;00m:\n\u001b[0;32m     37\u001b[0m             \u001b[38;5;66;03m# See https://github.com/pytorch/pytorch/issues/75462\u001b[39;00m\n\u001b[0;32m     38\u001b[0m             \u001b[38;5;28;01mif\u001b[39;00m has_torch_function(args):\n",
      "\u001b[1;31mKeyboardInterrupt\u001b[0m: "
     ]
    }
   ],
   "source": [
    "from DataGeneration import *\n",
    "from KidneyGenInVivoGradTubeNewRecruitment import *\n",
    "\n",
    "data = np.load('data/ubud_mcap_final.npy', allow_pickle=True)\n",
    "\n",
    "sim_dict = {\n",
    "    'output_folder'     : f'primed_MPC_0',\n",
    "    'data'              : data,\n",
    "    'dt'                : 0.2,\n",
    "    'eta'               : 0.01,\n",
    "    'not_polar_eta'     : 0.05,\n",
    "    'yield_steps'       : 2000,\n",
    "    'yield_every'       : 1,\n",
    "    'lambdas'           : [ [0.3, 0, 0, 0],\n",
    "                            [0, 0.5, 0.48, 0.02],\n",
    "                            [0.3, 0, 0, 0],\n",
    "                            [0, 0.5, 0.42, 0.08],\n",
    "                            [0, 0.5, 0.42, 0.08]],\n",
    "    'MPC_iREC_l0'       : 0.5,\n",
    "    'pUEC_REC_str'      : 0.8,\n",
    "    'l3_pUEC_REC_str'   : 0.8,\n",
    "    'UEC_l0'            : 0.2,\n",
    "    'UEC_REC_str'       : 0.2,\n",
    "    'primed_neigh_threshold': 5,\n",
    "    'iREC_nopolar_attr_str' : True,\n",
    "    'low_attach_ives'   : False,\n",
    "    'gamma'             : .01,\n",
    "    'vesicle_time'      : 1_000_000,\n",
    "    'seethru'           : 0,\n",
    "    'seethru_stop'      : 1_000_000,\n",
    "    'alphas'            : (0.2, 0.3 ,0.5),\n",
    "    'betas'             : [0.0, 0.0, 0.0, 0.0, 0.0],\n",
    "    'activation_sphere' : ([0, 6, 3.5], 12),\n",
    "    'pit_sphere'        : ([0, 6, 3.5], 8),\n",
    "    'UEC_bound_strength': 0.0,\n",
    "    'bound_deats'       : None, #([0,-18,20], 25,  #sphere 1\n",
    "                                #[0,15,5],     24,  #sphere 2      \n",
    "                                #1),\n",
    "    'recruitment_stop'  : 30,\n",
    "    'REC_IC_ratio'      : 1.0,\n",
    "    'iREC_time_arr'     : [500, 500, 2000, 2000, 500],\n",
    "    'max_cells'         : 10_000,\n",
    "    'prolif_delay'      : 1_000_000,\n",
    "    'abs_s2s3'          : True,\n",
    "    'UEC_update_strength'   : 0.0,\n",
    "    'tube_wall_str'     : None,\n",
    "    'diff_coef'         : 1.0,\n",
    "    'WNT_str'           : 1,\n",
    "    'WNT_c'             : 13,\n",
    "    'init_k'            : 100,\n",
    "    'random_seed'       : 42,\n",
    "    'device'            : 'cuda',\n",
    "    'dtype'             : torch.float,\n",
    "    'notes'             : f'primed_MPC_0',\n",
    "    'avg_q'             : False, \n",
    "    'verbose'           : True\n",
    "}\n",
    "\n",
    "run_simulation(sim_dict=sim_dict)"
   ]
  },
  {
   "cell_type": "markdown",
   "metadata": {},
   "source": [
    "### Testing on AdHoc data"
   ]
  },
  {
   "cell_type": "code",
   "execution_count": 4,
   "metadata": {},
   "outputs": [],
   "source": [
    "# data = np.load('data/u_bud_w_mcap/data.npy', allow_pickle=True)\n",
    "# data = np.load('data/ubud_mcap_final.npy', allow_pickle=True)\n",
    "# data = make_random_sphere(*[100, 1, 1])\n",
    "# data = (data[0] + 3, data[1], data[2] +, data[3] + 1)\n",
    "\n",
    "data = make_random_sphere(*[300, 1, 1])\n",
    "\n",
    "sim_dict = {\n",
    "    'output_folder'     : f'testing_newbound_1',\n",
    "    'data'              : data,\n",
    "    'dt'                : 0.2,\n",
    "    'eta'               : 0.01,\n",
    "    'not_polar_eta'     : 0.1,\n",
    "    'yield_steps'       : 1000,\n",
    "    'yield_every'       : 50,\n",
    "    'lambdas'           : [ [0.3, 0, 0, 0],\n",
    "                            [0, 0.5, 0.48, 0.02],\n",
    "                            [0.3, 0, 0, 0],\n",
    "                            [0, 0.5, 0.42, 0.08],\n",
    "                            [0, 0.5, 0.42, 0.08]],\n",
    "    'UEC_l0'            : 0.3,\n",
    "    'MPC_iREC_l0'       : 0.5,\n",
    "    'UEC_REC_str'       : 0.3,\n",
    "    'pUEC_REC_str'      : 0.8,\n",
    "    'l3_pUEC_REC_str'   : 1.5,\n",
    "    'iREC_nopolar_attr_str' : 0.1,\n",
    "    'low_attach_ives'   : True,\n",
    "    'gamma'             : .01,\n",
    "    'vesicle_time'      : 200_000,\n",
    "    'seethru'           : 0,\n",
    "    'seethru_stop'      : 100_000,\n",
    "    'alphas'            : (0.2, 0.2 ,0.35),\n",
    "    'betas'             : [0.0, 0.0, 0.0, 0.000, 0.000],\n",
    "    'activation_sphere' : ([0, 0, 20], 50),\n",
    "    'pit_sphere'        : ([0, 0, 0], 8),\n",
    "    'UEC_bound_strength': 0.0,\n",
    "    'bound_deats'       : ([0,0,0], 12.5, 0.5, 1),\n",
    "    'recruitment_stop'  : 30,\n",
    "    'REC_IC_ratio'      : 1.0,\n",
    "    'iREC_time_arr'     : [250, 250, 250, 250, 1000],\n",
    "    'max_cells'         : 10_000,\n",
    "    'prolif_delay'      : 0,\n",
    "    'abs_s2s3'          : True,\n",
    "    'UEC_update_strength'   : 0.0,\n",
    "    'cell_wall_interaction' : [False, False, False],\n",
    "    'diff_coef'         : 5,\n",
    "    'WNT_str'           : 1,\n",
    "    'WNT_c'             : 0.001,\n",
    "    'init_k'            : 100,\n",
    "    'random_seed'       : 42,\n",
    "    'device'            : 'cuda',\n",
    "    'dtype'             : torch.float,\n",
    "    'notes'             : f'testing_newbound_1',\n",
    "    'avg_q'             : False,\n",
    "    'verbose'           : True\n",
    "}   "
   ]
  },
  {
   "cell_type": "code",
   "execution_count": 5,
   "metadata": {},
   "outputs": [
    {
     "name": "stdout",
     "output_type": "stream",
     "text": [
      "Starting simulation with notes:\n",
      "testing_newbound_1\n",
      "Simulation done, saved 1000 datapoints)   (300 cells)\n",
      "Took 1520.6955952644348 seconds\n"
     ]
    }
   ],
   "source": [
    "run_simulation(sim_dict)"
   ]
  },
  {
   "cell_type": "code",
   "execution_count": 5,
   "metadata": {},
   "outputs": [],
   "source": []
  }
 ],
 "metadata": {
  "interpreter": {
   "hash": "4c08548143271a714d27776e0e0e6bf98f452125d711c135a0642961d9925bc3"
  },
  "kernelspec": {
   "display_name": "Python 3.10.14 64-bit ('seb_thesis_env': conda)",
   "name": "python3"
  },
  "language_info": {
   "codemirror_mode": {
    "name": "ipython",
    "version": 3
   },
   "file_extension": ".py",
   "mimetype": "text/x-python",
   "name": "python",
   "nbconvert_exporter": "python",
   "pygments_lexer": "ipython3",
   "version": "3.11.5"
  }
 },
 "nbformat": 4,
 "nbformat_minor": 2
}
