{
 "cells": [
  {
   "cell_type": "code",
   "execution_count": 5,
   "metadata": {},
   "outputs": [],
   "source": [
    "from DataGeneration import *\n",
    "# from ProduceMCap import *\n",
    "# from KidneyGenAlphaMethod import *\n",
    "# from KidneyGenForReal import *\n",
    "from KidneyGenInVivoGradTube import *"
   ]
  },
  {
   "cell_type": "code",
   "execution_count": 7,
   "metadata": {},
   "outputs": [
    {
     "output_type": "error",
     "ename": "FileNotFoundError",
     "evalue": "[Errno 2] No such file or directory: 'data/u_bud_mcap_final.npy'",
     "traceback": [
      "\u001b[1;31m---------------------------------------------------------------------------\u001b[0m",
      "\u001b[1;31mFileNotFoundError\u001b[0m                         Traceback (most recent call last)",
      "Cell \u001b[1;32mIn[7], line 2\u001b[0m\n\u001b[0;32m      1\u001b[0m folder \u001b[38;5;241m=\u001b[39m \u001b[38;5;124m\"\u001b[39m\u001b[38;5;124mdata/u_bud_mcap_final.npy\u001b[39m\u001b[38;5;124m\"\u001b[39m\n\u001b[1;32m----> 2\u001b[0m data \u001b[38;5;241m=\u001b[39m \u001b[43mnp\u001b[49m\u001b[38;5;241;43m.\u001b[39;49m\u001b[43mload\u001b[49m\u001b[43m(\u001b[49m\u001b[43mfolder\u001b[49m\u001b[43m,\u001b[49m\u001b[43m \u001b[49m\u001b[43mallow_pickle\u001b[49m\u001b[38;5;241;43m=\u001b[39;49m\u001b[38;5;28;43;01mTrue\u001b[39;49;00m\u001b[43m)\u001b[49m\n\u001b[0;32m      4\u001b[0m data \u001b[38;5;241m=\u001b[39m (data[\u001b[38;5;241m0\u001b[39m][\u001b[38;5;241m-\u001b[39m\u001b[38;5;241m1\u001b[39m], data[\u001b[38;5;241m1\u001b[39m][\u001b[38;5;241m-\u001b[39m\u001b[38;5;241m1\u001b[39m], data[\u001b[38;5;241m2\u001b[39m][\u001b[38;5;241m-\u001b[39m\u001b[38;5;241m1\u001b[39m], data[\u001b[38;5;241m3\u001b[39m][\u001b[38;5;241m-\u001b[39m\u001b[38;5;241m1\u001b[39m])\n",
      "File \u001b[1;32m~\\anaconda3\\envs\\seb_thesis_env\\lib\\site-packages\\numpy\\lib\\npyio.py:427\u001b[0m, in \u001b[0;36mload\u001b[1;34m(file, mmap_mode, allow_pickle, fix_imports, encoding, max_header_size)\u001b[0m\n\u001b[0;32m    425\u001b[0m     own_fid \u001b[38;5;241m=\u001b[39m \u001b[38;5;28;01mFalse\u001b[39;00m\n\u001b[0;32m    426\u001b[0m \u001b[38;5;28;01melse\u001b[39;00m:\n\u001b[1;32m--> 427\u001b[0m     fid \u001b[38;5;241m=\u001b[39m stack\u001b[38;5;241m.\u001b[39menter_context(\u001b[38;5;28;43mopen\u001b[39;49m\u001b[43m(\u001b[49m\u001b[43mos_fspath\u001b[49m\u001b[43m(\u001b[49m\u001b[43mfile\u001b[49m\u001b[43m)\u001b[49m\u001b[43m,\u001b[49m\u001b[43m \u001b[49m\u001b[38;5;124;43m\"\u001b[39;49m\u001b[38;5;124;43mrb\u001b[39;49m\u001b[38;5;124;43m\"\u001b[39;49m\u001b[43m)\u001b[49m)\n\u001b[0;32m    428\u001b[0m     own_fid \u001b[38;5;241m=\u001b[39m \u001b[38;5;28;01mTrue\u001b[39;00m\n\u001b[0;32m    430\u001b[0m \u001b[38;5;66;03m# Code to distinguish from NumPy binary files and pickles.\u001b[39;00m\n",
      "\u001b[1;31mFileNotFoundError\u001b[0m: [Errno 2] No such file or directory: 'data/u_bud_mcap_final.npy'"
     ]
    }
   ],
   "source": [
    "folder = \"data/u_bud_mcap_final.npy\"\n",
    "data = np.load(folder, allow_pickle=True)\n",
    "\n",
    "data = (data[0][-1], data[1][-1], data[2][-1], data[3][-1])"
   ]
  },
  {
   "cell_type": "code",
   "execution_count": 2,
   "metadata": {},
   "outputs": [
    {
     "output_type": "error",
     "ename": "NameError",
     "evalue": "name 'data' is not defined",
     "traceback": [
      "\u001b[1;31m---------------------------------------------------------------------------\u001b[0m",
      "\u001b[1;31mNameError\u001b[0m                                 Traceback (most recent call last)",
      "Cell \u001b[1;32mIn[2], line 3\u001b[0m\n\u001b[0;32m      1\u001b[0m sim_dict \u001b[38;5;241m=\u001b[39m {\n\u001b[0;32m      2\u001b[0m     \u001b[38;5;124m'\u001b[39m\u001b[38;5;124moutput_folder\u001b[39m\u001b[38;5;124m'\u001b[39m     : \u001b[38;5;124mf\u001b[39m\u001b[38;5;124m'\u001b[39m\u001b[38;5;124mtesting_kidneygen_real\u001b[39m\u001b[38;5;124m'\u001b[39m,\n\u001b[1;32m----> 3\u001b[0m     \u001b[38;5;124m'\u001b[39m\u001b[38;5;124mdata\u001b[39m\u001b[38;5;124m'\u001b[39m              : \u001b[43mdata\u001b[49m,\n\u001b[0;32m      4\u001b[0m     \u001b[38;5;124m'\u001b[39m\u001b[38;5;124mdt\u001b[39m\u001b[38;5;124m'\u001b[39m                : \u001b[38;5;241m0.2\u001b[39m,\n\u001b[0;32m      5\u001b[0m     \u001b[38;5;124m'\u001b[39m\u001b[38;5;124meta\u001b[39m\u001b[38;5;124m'\u001b[39m               : \u001b[38;5;241m0.1\u001b[39m,\n\u001b[0;32m      6\u001b[0m     \u001b[38;5;124m'\u001b[39m\u001b[38;5;124myield_steps\u001b[39m\u001b[38;5;124m'\u001b[39m       : \u001b[38;5;241m1000\u001b[39m,\n\u001b[0;32m      7\u001b[0m     \u001b[38;5;124m'\u001b[39m\u001b[38;5;124myield_every\u001b[39m\u001b[38;5;124m'\u001b[39m       : \u001b[38;5;241m50\u001b[39m,\n\u001b[0;32m      8\u001b[0m     \u001b[38;5;124m'\u001b[39m\u001b[38;5;124mlambdas\u001b[39m\u001b[38;5;124m'\u001b[39m           : [ [\u001b[38;5;241m0.2\u001b[39m, \u001b[38;5;241m0\u001b[39m, \u001b[38;5;241m0\u001b[39m, \u001b[38;5;241m0\u001b[39m],\n\u001b[0;32m      9\u001b[0m                             [\u001b[38;5;241m0\u001b[39m, \u001b[38;5;241m0.5\u001b[39m, \u001b[38;5;241m0.48\u001b[39m, \u001b[38;5;241m0.02\u001b[39m],\n\u001b[0;32m     10\u001b[0m                             [\u001b[38;5;241m0.3\u001b[39m, \u001b[38;5;241m0\u001b[39m, \u001b[38;5;241m0\u001b[39m, \u001b[38;5;241m0\u001b[39m],\n\u001b[0;32m     11\u001b[0m                             [\u001b[38;5;241m0\u001b[39m, \u001b[38;5;241m0.45\u001b[39m, \u001b[38;5;241m0.4\u001b[39m, \u001b[38;5;241m0.15\u001b[39m],\n\u001b[0;32m     12\u001b[0m                             [\u001b[38;5;241m0\u001b[39m, \u001b[38;5;241m0.45\u001b[39m, \u001b[38;5;241m0.4\u001b[39m, \u001b[38;5;241m0.15\u001b[39m]],\n\u001b[0;32m     13\u001b[0m     \u001b[38;5;124m'\u001b[39m\u001b[38;5;124mUEC_l0\u001b[39m\u001b[38;5;124m'\u001b[39m            : \u001b[38;5;241m0.1\u001b[39m,\n\u001b[0;32m     14\u001b[0m     \u001b[38;5;124m'\u001b[39m\u001b[38;5;124mpUEC_iREC_l0\u001b[39m\u001b[38;5;124m'\u001b[39m      : \u001b[38;5;241m0.5\u001b[39m,\n\u001b[0;32m     15\u001b[0m     \u001b[38;5;124m'\u001b[39m\u001b[38;5;124mMPC_iREC_l0\u001b[39m\u001b[38;5;124m'\u001b[39m       : \u001b[38;5;241m0.3\u001b[39m,\n\u001b[0;32m     16\u001b[0m     \u001b[38;5;124m'\u001b[39m\u001b[38;5;124mgamma\u001b[39m\u001b[38;5;124m'\u001b[39m             : \u001b[38;5;241m0.0\u001b[39m,\n\u001b[0;32m     17\u001b[0m     \u001b[38;5;124m'\u001b[39m\u001b[38;5;124mvesicle_time\u001b[39m\u001b[38;5;124m'\u001b[39m      : \u001b[38;5;241m30_000\u001b[39m,\n\u001b[0;32m     18\u001b[0m     \u001b[38;5;124m'\u001b[39m\u001b[38;5;124mseethru\u001b[39m\u001b[38;5;124m'\u001b[39m           : \u001b[38;5;241m1\u001b[39m,\n\u001b[0;32m     19\u001b[0m     \u001b[38;5;124m'\u001b[39m\u001b[38;5;124mseethru_stop\u001b[39m\u001b[38;5;124m'\u001b[39m      : \u001b[38;5;241m100_000\u001b[39m,\n\u001b[0;32m     20\u001b[0m     \u001b[38;5;124m'\u001b[39m\u001b[38;5;124malphas\u001b[39m\u001b[38;5;124m'\u001b[39m            : [\u001b[38;5;241m0.2\u001b[39m, \u001b[38;5;241m0.3\u001b[39m, \u001b[38;5;241m0.5\u001b[39m],\n\u001b[0;32m     21\u001b[0m     \u001b[38;5;124m'\u001b[39m\u001b[38;5;124mbetas\u001b[39m\u001b[38;5;124m'\u001b[39m             : [\u001b[38;5;241m0.0\u001b[39m, \u001b[38;5;241m0.0\u001b[39m, \u001b[38;5;241m0.0\u001b[39m, \u001b[38;5;241m0.0\u001b[39m, \u001b[38;5;241m0.0\u001b[39m],\n\u001b[0;32m     22\u001b[0m     \u001b[38;5;124m'\u001b[39m\u001b[38;5;124mactivation_sphere\u001b[39m\u001b[38;5;124m'\u001b[39m : ([\u001b[38;5;241m0\u001b[39m, \u001b[38;5;241m0\u001b[39m, \u001b[38;5;241m0\u001b[39m], \u001b[38;5;241m20\u001b[39m),\n\u001b[0;32m     23\u001b[0m     \u001b[38;5;124m'\u001b[39m\u001b[38;5;124mpit_sphere\u001b[39m\u001b[38;5;124m'\u001b[39m        : ([\u001b[38;5;241m0\u001b[39m, \u001b[38;5;241m0\u001b[39m, \u001b[38;5;241m0\u001b[39m], \u001b[38;5;241m10\u001b[39m),\n\u001b[0;32m     24\u001b[0m     \u001b[38;5;124m'\u001b[39m\u001b[38;5;124mUEC_bound_strength\u001b[39m\u001b[38;5;124m'\u001b[39m: \u001b[38;5;241m5.0\u001b[39m,\n\u001b[0;32m     25\u001b[0m     \u001b[38;5;124m'\u001b[39m\u001b[38;5;124mrecruitment_stop\u001b[39m\u001b[38;5;124m'\u001b[39m  : \u001b[38;5;241m100_000\u001b[39m,\n\u001b[0;32m     26\u001b[0m     \u001b[38;5;124m'\u001b[39m\u001b[38;5;124mREC_IC_ratio\u001b[39m\u001b[38;5;124m'\u001b[39m      : \u001b[38;5;241m1.0\u001b[39m,\n\u001b[0;32m     27\u001b[0m     \u001b[38;5;124m'\u001b[39m\u001b[38;5;124miREC_time_arr\u001b[39m\u001b[38;5;124m'\u001b[39m     : [\u001b[38;5;241m1000\u001b[39m, \u001b[38;5;241m1000\u001b[39m, \u001b[38;5;241m1000\u001b[39m, \u001b[38;5;241m1000\u001b[39m, \u001b[38;5;241m1000\u001b[39m],\n\u001b[0;32m     28\u001b[0m     \u001b[38;5;124m'\u001b[39m\u001b[38;5;124mmax_cells\u001b[39m\u001b[38;5;124m'\u001b[39m         : \u001b[38;5;241m10_000\u001b[39m,\n\u001b[0;32m     29\u001b[0m     \u001b[38;5;124m'\u001b[39m\u001b[38;5;124mprolif_delay\u001b[39m\u001b[38;5;124m'\u001b[39m      : \u001b[38;5;241m0\u001b[39m,\n\u001b[0;32m     30\u001b[0m     \u001b[38;5;124m'\u001b[39m\u001b[38;5;124mabs_s2s3\u001b[39m\u001b[38;5;124m'\u001b[39m          : \u001b[38;5;28;01mTrue\u001b[39;00m,\n\u001b[0;32m     31\u001b[0m     \u001b[38;5;124m'\u001b[39m\u001b[38;5;124mUEC_update_strength\u001b[39m\u001b[38;5;124m'\u001b[39m   : \u001b[38;5;241m0.0\u001b[39m,\n\u001b[0;32m     32\u001b[0m     \u001b[38;5;124m'\u001b[39m\u001b[38;5;124mcell_wall_interaction\u001b[39m\u001b[38;5;124m'\u001b[39m : [\u001b[38;5;28;01mFalse\u001b[39;00m, \u001b[38;5;28;01mFalse\u001b[39;00m, \u001b[38;5;28;01mFalse\u001b[39;00m],\n\u001b[0;32m     33\u001b[0m     \u001b[38;5;124m'\u001b[39m\u001b[38;5;124mtransform_sigma\u001b[39m\u001b[38;5;124m'\u001b[39m   : \u001b[38;5;241m5.0\u001b[39m,\n\u001b[0;32m     34\u001b[0m     \u001b[38;5;124m'\u001b[39m\u001b[38;5;124minit_k\u001b[39m\u001b[38;5;124m'\u001b[39m            : \u001b[38;5;241m100\u001b[39m,\n\u001b[0;32m     35\u001b[0m     \u001b[38;5;124m'\u001b[39m\u001b[38;5;124mrandom_seed\u001b[39m\u001b[38;5;124m'\u001b[39m       : \u001b[38;5;241m42\u001b[39m,\n\u001b[0;32m     36\u001b[0m     \u001b[38;5;124m'\u001b[39m\u001b[38;5;124mdevice\u001b[39m\u001b[38;5;124m'\u001b[39m            : \u001b[38;5;124m'\u001b[39m\u001b[38;5;124mcuda\u001b[39m\u001b[38;5;124m'\u001b[39m,\n\u001b[0;32m     37\u001b[0m     \u001b[38;5;124m'\u001b[39m\u001b[38;5;124mdtype\u001b[39m\u001b[38;5;124m'\u001b[39m             : torch\u001b[38;5;241m.\u001b[39mfloat,\n\u001b[0;32m     38\u001b[0m     \u001b[38;5;124m'\u001b[39m\u001b[38;5;124mnotes\u001b[39m\u001b[38;5;124m'\u001b[39m             : \u001b[38;5;124mf\u001b[39m\u001b[38;5;124m'\u001b[39m\u001b[38;5;124mtesting_comma_shape\u001b[39m\u001b[38;5;124m'\u001b[39m,\n\u001b[0;32m     39\u001b[0m     \u001b[38;5;124m'\u001b[39m\u001b[38;5;124mavg_q\u001b[39m\u001b[38;5;124m'\u001b[39m             : \u001b[38;5;28;01mFalse\u001b[39;00m,\n\u001b[0;32m     40\u001b[0m }\n",
      "\u001b[1;31mNameError\u001b[0m: name 'data' is not defined"
     ]
    }
   ],
   "source": [
    "sim_dict = {\n",
    "    'output_folder'     : f'testing_kidneygen_real',\n",
    "    'data'              : data,\n",
    "    'dt'                : 0.2,\n",
    "    'eta'               : 0.1,\n",
    "    'yield_steps'       : 1000,\n",
    "    'yield_every'       : 50,\n",
    "    'lambdas'           : [ [0.2, 0, 0, 0],\n",
    "                            [0, 0.5, 0.48, 0.02],\n",
    "                            [0.3, 0, 0, 0],\n",
    "                            [0, 0.45, 0.4, 0.15],\n",
    "                            [0, 0.45, 0.4, 0.15]],\n",
    "    'UEC_l0'            : 0.1,\n",
    "    'pUEC_iREC_l0'      : 0.5,\n",
    "    'MPC_iREC_l0'       : 0.3,\n",
    "    'gamma'             : 0.0,\n",
    "    'vesicle_time'      : 30_000,\n",
    "    'seethru'           : 1,\n",
    "    'seethru_stop'      : 100_000,\n",
    "    'alphas'            : [0.2, 0.3, 0.5],\n",
    "    'betas'             : [0.0, 0.0, 0.0, 0.0, 0.0],\n",
    "    'activation_sphere' : ([0, 0, 0], 20),\n",
    "    'pit_sphere'        : ([0, 0, 0], 10),\n",
    "    'UEC_bound_strength': 5.0,\n",
    "    'recruitment_stop'  : 100_000,\n",
    "    'REC_IC_ratio'      : 1.0,\n",
    "    'iREC_time_arr'     : [1000, 1000, 1000, 1000, 1000],\n",
    "    'max_cells'         : 10_000,\n",
    "    'prolif_delay'      : 0,\n",
    "    'abs_s2s3'          : True,\n",
    "    'UEC_update_strength'   : 0.0,\n",
    "    'cell_wall_interaction' : [False, False, False],\n",
    "    'transform_sigma'   : 5.0,\n",
    "    'init_k'            : 100,\n",
    "    'random_seed'       : 42,\n",
    "    'device'            : 'cuda',\n",
    "    'dtype'             : torch.float,\n",
    "    'notes'             : f'testing_comma_shape',\n",
    "    'avg_q'             : False,\n",
    "}"
   ]
  },
  {
   "cell_type": "code",
   "execution_count": 4,
   "metadata": {},
   "outputs": [
    {
     "name": "stdout",
     "output_type": "stream",
     "text": [
      "Starting simulation with notes:\n",
      "testing_comma_shape\n",
      "torch.Size([3750, 3, 3])\n",
      "torch.Size([3750, 3, 3])\n",
      "torch.Size([3750, 3])\n",
      "Simulation done, saved 1000 datapoints)   (5252 cells)\n",
      "Took 1994.2592825889587 seconds\n"
     ]
    }
   ],
   "source": [
    "run_simulation(sim_dict)"
   ]
  },
  {
   "cell_type": "code",
   "execution_count": 5,
   "metadata": {},
   "outputs": [],
   "source": [
    "sim_dict = {\n",
    "    'output_folder'     : f'testing_comma_shape',\n",
    "    'data'              : data,\n",
    "    'dt'                : 0.2,\n",
    "    'eta'               : 1e-5,\n",
    "    'yield_steps'       : 1000,\n",
    "    'yield_every'       : 10,\n",
    "    'lambdas'           : [0.4 ,0.4, 0.50, 0.40, 0.10],\n",
    "    'pre_lambdas'       : [0.4, 0.4, 1],\n",
    "    'gamma'             : 0.0,\n",
    "    'gauss_multiplier'  : 0.04,\n",
    "    'warmup_dur'        : 0,\n",
    "    'pre_polar_dur'     : 1000,\n",
    "    'vesicle_time'      : 1000,\n",
    "    'seethru'           : 0,\n",
    "    'alpha'             : 0.5,\n",
    "    'betas'             : (0.0,0.001),\n",
    "    'max_cells'         : 10_000,\n",
    "    'prolif_delay'      : 0,\n",
    "    'bound_radius'      : None,\n",
    "    'abs_s2s3'          : True,\n",
    "    'min0_s1'           : False,\n",
    "    'init_k'            : 100,\n",
    "    'random_seed'       : 42,\n",
    "    'device'            : 'cuda',\n",
    "    'dtype'             : torch.float,\n",
    "    'notes'             : f'testing_comma_shape',\n",
    "    'avg_q'             : False,\n",
    "}\n"
   ]
  },
  {
   "cell_type": "code",
   "execution_count": null,
   "metadata": {},
   "outputs": [],
   "source": []
  }
 ],
 "metadata": {
  "kernelspec": {
   "name": "python3",
   "display_name": "Python 3.10.14 64-bit ('seb_thesis_env': conda)"
  },
  "language_info": {
   "codemirror_mode": {
    "name": "ipython",
    "version": 3
   },
   "file_extension": ".py",
   "mimetype": "text/x-python",
   "name": "python",
   "nbconvert_exporter": "python",
   "pygments_lexer": "ipython3",
   "version": "3.10.14"
  },
  "interpreter": {
   "hash": "4c08548143271a714d27776e0e0e6bf98f452125d711c135a0642961d9925bc3"
  }
 },
 "nbformat": 4,
 "nbformat_minor": 2
}