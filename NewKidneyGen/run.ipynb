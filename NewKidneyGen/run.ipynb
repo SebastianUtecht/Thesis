{
 "cells": [
  {
   "cell_type": "code",
   "execution_count": 1,
   "metadata": {},
   "outputs": [],
   "source": [
    "from DataGeneration import *\n",
    "from KidneyGenBounds import *"
   ]
  },
  {
   "cell_type": "code",
   "execution_count": 1,
   "metadata": {},
   "outputs": [
    {
     "ename": "NameError",
     "evalue": "name 'make_random_sphere' is not defined",
     "output_type": "error",
     "traceback": [
      "\u001b[1;31m---------------------------------------------------------------------------\u001b[0m",
      "\u001b[1;31mNameError\u001b[0m                                 Traceback (most recent call last)",
      "Cell \u001b[1;32mIn[1], line 3\u001b[0m\n\u001b[0;32m      1\u001b[0m sim_dict \u001b[38;5;241m=\u001b[39m {\n\u001b[0;32m      2\u001b[0m     \u001b[38;5;124m'\u001b[39m\u001b[38;5;124moutput_folder\u001b[39m\u001b[38;5;124m'\u001b[39m     : \u001b[38;5;124m'\u001b[39m\u001b[38;5;124mtesting_bounds0\u001b[39m\u001b[38;5;124m'\u001b[39m,\n\u001b[1;32m----> 3\u001b[0m     \u001b[38;5;124m'\u001b[39m\u001b[38;5;124mdata\u001b[39m\u001b[38;5;124m'\u001b[39m              : (make_random_sphere, [\u001b[38;5;241m100\u001b[39m, \u001b[38;5;241m0.0\u001b[39m, \u001b[38;5;241m1\u001b[39m]),\n\u001b[0;32m      4\u001b[0m     \u001b[38;5;124m'\u001b[39m\u001b[38;5;124mdt\u001b[39m\u001b[38;5;124m'\u001b[39m                : \u001b[38;5;241m0.1\u001b[39m,\n\u001b[0;32m      5\u001b[0m     \u001b[38;5;124m'\u001b[39m\u001b[38;5;124meta\u001b[39m\u001b[38;5;124m'\u001b[39m               : \u001b[38;5;241m1e-5\u001b[39m,\n\u001b[0;32m      6\u001b[0m     \u001b[38;5;124m'\u001b[39m\u001b[38;5;124myield_steps\u001b[39m\u001b[38;5;124m'\u001b[39m       : \u001b[38;5;241m1_000\u001b[39m,\n\u001b[0;32m      7\u001b[0m     \u001b[38;5;124m'\u001b[39m\u001b[38;5;124myield_every\u001b[39m\u001b[38;5;124m'\u001b[39m       : \u001b[38;5;241m50\u001b[39m,\n\u001b[0;32m      8\u001b[0m     \u001b[38;5;124m'\u001b[39m\u001b[38;5;124mlambdas\u001b[39m\u001b[38;5;124m'\u001b[39m           : [\u001b[38;5;241m0.3\u001b[39m ,\u001b[38;5;241m0.3\u001b[39m, \u001b[38;5;241m0.48\u001b[39m, \u001b[38;5;241m0.42\u001b[39m, \u001b[38;5;241m0.10\u001b[39m],\n\u001b[0;32m      9\u001b[0m     \u001b[38;5;124m'\u001b[39m\u001b[38;5;124mpre_lambdas\u001b[39m\u001b[38;5;124m'\u001b[39m       : [\u001b[38;5;241m0.3\u001b[39m, \u001b[38;5;241m0.3\u001b[39m, \u001b[38;5;241m1\u001b[39m],\n\u001b[0;32m     10\u001b[0m     \u001b[38;5;124m'\u001b[39m\u001b[38;5;124mgamma\u001b[39m\u001b[38;5;124m'\u001b[39m             : \u001b[38;5;241m.5\u001b[39m,\n\u001b[0;32m     11\u001b[0m     \u001b[38;5;124m'\u001b[39m\u001b[38;5;124mgauss_multiplier\u001b[39m\u001b[38;5;124m'\u001b[39m  : \u001b[38;5;241m0.04\u001b[39m,\n\u001b[0;32m     12\u001b[0m     \u001b[38;5;124m'\u001b[39m\u001b[38;5;124mwarmup_dur\u001b[39m\u001b[38;5;124m'\u001b[39m        : \u001b[38;5;241m0\u001b[39m,\n\u001b[0;32m     13\u001b[0m     \u001b[38;5;124m'\u001b[39m\u001b[38;5;124mpre_polar_dur\u001b[39m\u001b[38;5;124m'\u001b[39m     : \u001b[38;5;241m0.0\u001b[39m,\n\u001b[0;32m     14\u001b[0m     \u001b[38;5;124m'\u001b[39m\u001b[38;5;124mseethru\u001b[39m\u001b[38;5;124m'\u001b[39m           : \u001b[38;5;241m1\u001b[39m,\n\u001b[0;32m     15\u001b[0m     \u001b[38;5;124m'\u001b[39m\u001b[38;5;124malpha\u001b[39m\u001b[38;5;124m'\u001b[39m             : \u001b[38;5;241m0\u001b[39m,\n\u001b[0;32m     16\u001b[0m     \u001b[38;5;124m'\u001b[39m\u001b[38;5;124mbetas\u001b[39m\u001b[38;5;124m'\u001b[39m             : (\u001b[38;5;241m0.0\u001b[39m,\u001b[38;5;241m0.0005\u001b[39m),\n\u001b[0;32m     17\u001b[0m     \u001b[38;5;124m'\u001b[39m\u001b[38;5;124mmax_cells\u001b[39m\u001b[38;5;124m'\u001b[39m         : \u001b[38;5;241m10_000\u001b[39m,\n\u001b[0;32m     18\u001b[0m     \u001b[38;5;124m'\u001b[39m\u001b[38;5;124mprolif_delay\u001b[39m\u001b[38;5;124m'\u001b[39m      : \u001b[38;5;241m0\u001b[39m,\n\u001b[0;32m     19\u001b[0m     \u001b[38;5;124m'\u001b[39m\u001b[38;5;124mbound_radius\u001b[39m\u001b[38;5;124m'\u001b[39m      : \u001b[38;5;28;01mNone\u001b[39;00m,\n\u001b[0;32m     20\u001b[0m     \u001b[38;5;124m'\u001b[39m\u001b[38;5;124mabs_s2s3\u001b[39m\u001b[38;5;124m'\u001b[39m          : \u001b[38;5;28;01mTrue\u001b[39;00m,\n\u001b[0;32m     21\u001b[0m     \u001b[38;5;124m'\u001b[39m\u001b[38;5;124mmin0_s1\u001b[39m\u001b[38;5;124m'\u001b[39m           : \u001b[38;5;28;01mTrue\u001b[39;00m,\n\u001b[0;32m     22\u001b[0m     \u001b[38;5;124m'\u001b[39m\u001b[38;5;124minit_k\u001b[39m\u001b[38;5;124m'\u001b[39m            : \u001b[38;5;241m100\u001b[39m,\n\u001b[0;32m     23\u001b[0m     \u001b[38;5;124m'\u001b[39m\u001b[38;5;124mrandom_seed\u001b[39m\u001b[38;5;124m'\u001b[39m       : \u001b[38;5;241m42\u001b[39m,\n\u001b[0;32m     24\u001b[0m     \u001b[38;5;124m'\u001b[39m\u001b[38;5;124mdevice\u001b[39m\u001b[38;5;124m'\u001b[39m            : \u001b[38;5;124m'\u001b[39m\u001b[38;5;124mcuda\u001b[39m\u001b[38;5;124m'\u001b[39m,\n\u001b[0;32m     25\u001b[0m     \u001b[38;5;124m'\u001b[39m\u001b[38;5;124mdtype\u001b[39m\u001b[38;5;124m'\u001b[39m             : torch\u001b[38;5;241m.\u001b[39mfloat,\n\u001b[0;32m     26\u001b[0m     \u001b[38;5;124m'\u001b[39m\u001b[38;5;124mnotes\u001b[39m\u001b[38;5;124m'\u001b[39m             : \u001b[38;5;124m'\u001b[39m\u001b[38;5;124mtesting_bounds0\u001b[39m\u001b[38;5;124m'\u001b[39m,\n\u001b[0;32m     27\u001b[0m }\n",
      "\u001b[1;31mNameError\u001b[0m: name 'make_random_sphere' is not defined"
     ]
    }
   ],
   "source": [
    "sim_dict = {\n",
    "    'output_folder'     : 'testing_bounds0',\n",
    "    'data'              : (make_random_sphere, [100, 0.0, 1]),\n",
    "    'dt'                : 0.1,\n",
    "    'eta'               : 1e-5,\n",
    "    'yield_steps'       : 1_000,\n",
    "    'yield_every'       : 50,\n",
    "    'lambdas'           : [0.3 ,0.3, 0.48, 0.42, 0.10],\n",
    "    'pre_lambdas'       : [0.3, 0.3, 1],\n",
    "    'gamma'             : .5,\n",
    "    'gauss_multiplier'  : 0.04,\n",
    "    'warmup_dur'        : 0,\n",
    "    'pre_polar_dur'     : 0.0,\n",
    "    'seethru'           : 1,\n",
    "    'alpha'             : 0,\n",
    "    'betas'             : (0.0,0.0005),\n",
    "    'max_cells'         : 10_000,\n",
    "    'prolif_delay'      : 0,\n",
    "    'bound_radius'      : None,\n",
    "    'abs_s2s3'          : True,\n",
    "    'min0_s1'           : True,\n",
    "    'init_k'            : 100,\n",
    "    'random_seed'       : 42,\n",
    "    'device'            : 'cuda',\n",
    "    'dtype'             : torch.float,\n",
    "    'notes'             : 'testing_bounds0',\n",
    "}"
   ]
  },
  {
   "cell_type": "code",
   "execution_count": 17,
   "metadata": {},
   "outputs": [
    {
     "name": "stdout",
     "output_type": "stream",
     "text": [
      "Starting simulation with notes:\n",
      "testing_bounds0\n",
      "Running 919 of 1000   (45950 of 50000)   (271 cells)\r"
     ]
    }
   ],
   "source": [
    "run_simulation(sim_dict) "
   ]
  },
  {
   "cell_type": "code",
   "execution_count": 5,
   "metadata": {},
   "outputs": [
    {
     "name": "stdout",
     "output_type": "stream",
     "text": [
      "Starting simulation with notes:\n",
      "conc0.3_0\n",
      "\n",
      "\n",
      "##### Setting seethru to 0 #####\n",
      "\n",
      "\n",
      "Simulation done, saved 1 datapoints (10000 cells)\n",
      "Took 985.6463885307312 seconds\n",
      "Starting simulation with notes:\n",
      "conc0.6_0\n",
      "\n",
      "\n",
      "##### Setting seethru to 0 #####\n",
      "\n",
      "\n",
      "Simulation done, saved 1 datapoints (10000 cells)\n",
      "Took 739.0875799655914 seconds\n",
      "Starting simulation with notes:\n",
      "conc0.9_0\n",
      "\n",
      "\n",
      "##### Setting seethru to 0 #####\n",
      "\n",
      "\n",
      "Simulation done, saved 1 datapoints (10000 cells)\n",
      "Took 883.364298582077 seconds\n",
      "Starting simulation with notes:\n",
      "conc0.3_1\n"
     ]
    },
    {
     "ename": "KeyboardInterrupt",
     "evalue": "",
     "output_type": "error",
     "traceback": [
      "\u001b[1;31m---------------------------------------------------------------------------\u001b[0m",
      "\u001b[1;31mKeyboardInterrupt\u001b[0m                         Traceback (most recent call last)",
      "Cell \u001b[1;32mIn[5], line 31\u001b[0m\n\u001b[0;32m      5\u001b[0m \u001b[38;5;28;01mfor\u001b[39;00m conc \u001b[38;5;129;01min\u001b[39;00m conc_lst:\n\u001b[0;32m      6\u001b[0m     sim_dict \u001b[38;5;241m=\u001b[39m {\n\u001b[0;32m      7\u001b[0m         \u001b[38;5;124m'\u001b[39m\u001b[38;5;124moutput_folder\u001b[39m\u001b[38;5;124m'\u001b[39m     : \u001b[38;5;124mf\u001b[39m\u001b[38;5;124m\"\u001b[39m\u001b[38;5;124mconc\u001b[39m\u001b[38;5;132;01m{\u001b[39;00mconc\u001b[38;5;132;01m}\u001b[39;00m\u001b[38;5;124m_\u001b[39m\u001b[38;5;132;01m{\u001b[39;00mi\u001b[38;5;132;01m}\u001b[39;00m\u001b[38;5;124m\"\u001b[39m,\n\u001b[0;32m      8\u001b[0m         \u001b[38;5;124m'\u001b[39m\u001b[38;5;124mdata\u001b[39m\u001b[38;5;124m'\u001b[39m              : (make_random_sphere, [size, conc, \u001b[38;5;241m35\u001b[39m]),\n\u001b[1;32m   (...)\u001b[0m\n\u001b[0;32m     28\u001b[0m         \u001b[38;5;124m'\u001b[39m\u001b[38;5;124mnotes\u001b[39m\u001b[38;5;124m'\u001b[39m             : \u001b[38;5;124mf\u001b[39m\u001b[38;5;124m\"\u001b[39m\u001b[38;5;124mconc\u001b[39m\u001b[38;5;132;01m{\u001b[39;00mconc\u001b[38;5;132;01m}\u001b[39;00m\u001b[38;5;124m_\u001b[39m\u001b[38;5;132;01m{\u001b[39;00mi\u001b[38;5;132;01m}\u001b[39;00m\u001b[38;5;124m\"\u001b[39m,\n\u001b[0;32m     29\u001b[0m     }\n\u001b[1;32m---> 31\u001b[0m     run_simulation(sim_dict)\n",
      "File \u001b[1;32mc:\\Users\\s_ute\\OneDrive\\Dokumenter\\Uni\\Thesis\\NewKidneyGen\\KidneyGenFixingGauss.py:378\u001b[0m, in \u001b[0;36mrun_simulation\u001b[1;34m(sim_dict)\u001b[0m\n\u001b[0;32m    375\u001b[0m i \u001b[38;5;241m=\u001b[39m \u001b[38;5;241m0\u001b[39m\n\u001b[0;32m    376\u001b[0m t1 \u001b[38;5;241m=\u001b[39m time()\n\u001b[1;32m--> 378\u001b[0m \u001b[38;5;28;01mfor\u001b[39;00m xx, pp, qq, pp_mask \u001b[38;5;129;01min\u001b[39;00m itertools\u001b[38;5;241m.\u001b[39mislice(runner, yield_steps):\n\u001b[0;32m    379\u001b[0m     i \u001b[38;5;241m+\u001b[39m\u001b[38;5;241m=\u001b[39m \u001b[38;5;241m1\u001b[39m\n\u001b[0;32m    380\u001b[0m     \u001b[38;5;28mprint\u001b[39m(\u001b[38;5;124mf\u001b[39m\u001b[38;5;124m'\u001b[39m\u001b[38;5;124mRunning \u001b[39m\u001b[38;5;132;01m{\u001b[39;00mi\u001b[38;5;132;01m}\u001b[39;00m\u001b[38;5;124m of \u001b[39m\u001b[38;5;132;01m{\u001b[39;00myield_steps\u001b[38;5;132;01m}\u001b[39;00m\u001b[38;5;124m   (\u001b[39m\u001b[38;5;132;01m{\u001b[39;00myield_every \u001b[38;5;241m*\u001b[39m i\u001b[38;5;132;01m}\u001b[39;00m\u001b[38;5;124m of \u001b[39m\u001b[38;5;132;01m{\u001b[39;00myield_every \u001b[38;5;241m*\u001b[39m yield_steps\u001b[38;5;132;01m}\u001b[39;00m\u001b[38;5;124m)   (\u001b[39m\u001b[38;5;132;01m{\u001b[39;00m\u001b[38;5;28mlen\u001b[39m(xx)\u001b[38;5;132;01m}\u001b[39;00m\u001b[38;5;124m cells)\u001b[39m\u001b[38;5;124m'\u001b[39m, end\u001b[38;5;241m=\u001b[39m\u001b[38;5;124m'\u001b[39m\u001b[38;5;130;01m\\r\u001b[39;00m\u001b[38;5;124m'\u001b[39m)\n",
      "File \u001b[1;32mc:\\Users\\s_ute\\OneDrive\\Dokumenter\\Uni\\Thesis\\NewKidneyGen\\KidneyGenFixingGauss.py:269\u001b[0m, in \u001b[0;36msimulation\u001b[1;34m(self, x, p, q, p_mask)\u001b[0m\n",
      "File \u001b[1;32mc:\\Users\\s_ute\\OneDrive\\Dokumenter\\Uni\\Thesis\\NewKidneyGen\\KidneyGenFixingGauss.py:242\u001b[0m, in \u001b[0;36mtime_step\u001b[1;34m(self, x, p, q, p_mask, tstep)\u001b[0m\n",
      "File \u001b[1;32mc:\\Users\\s_ute\\OneDrive\\Dokumenter\\Uni\\Thesis\\NewKidneyGen\\KidneyGenFixingGauss.py:95\u001b[0m, in \u001b[0;36mpotential\u001b[1;34m(self, x, p, q, p_mask, idx, d)\u001b[0m\n",
      "File \u001b[1;32mc:\\Users\\s_ute\\anaconda3\\envs\\masters_env\\Lib\\site-packages\\torch\\_tensor.py:34\u001b[0m, in \u001b[0;36m_handle_torch_function_and_wrap_type_error_to_not_implemented.<locals>.wrapped\u001b[1;34m(*args, **kwargs)\u001b[0m\n\u001b[0;32m     31\u001b[0m \u001b[38;5;28;01mdef\u001b[39;00m \u001b[38;5;21m_handle_torch_function_and_wrap_type_error_to_not_implemented\u001b[39m(f):\n\u001b[0;32m     32\u001b[0m     assigned \u001b[38;5;241m=\u001b[39m functools\u001b[38;5;241m.\u001b[39mWRAPPER_ASSIGNMENTS\n\u001b[1;32m---> 34\u001b[0m     \u001b[38;5;129m@functools\u001b[39m\u001b[38;5;241m.\u001b[39mwraps(f, assigned\u001b[38;5;241m=\u001b[39massigned)\n\u001b[0;32m     35\u001b[0m     \u001b[38;5;28;01mdef\u001b[39;00m \u001b[38;5;21mwrapped\u001b[39m(\u001b[38;5;241m*\u001b[39margs, \u001b[38;5;241m*\u001b[39m\u001b[38;5;241m*\u001b[39mkwargs):\n\u001b[0;32m     36\u001b[0m         \u001b[38;5;28;01mtry\u001b[39;00m:\n\u001b[0;32m     37\u001b[0m             \u001b[38;5;66;03m# See https://github.com/pytorch/pytorch/issues/75462\u001b[39;00m\n\u001b[0;32m     38\u001b[0m             \u001b[38;5;28;01mif\u001b[39;00m has_torch_function(args):\n",
      "\u001b[1;31mKeyboardInterrupt\u001b[0m: "
     ]
    }
   ],
   "source": [
    "size = 10_000\n",
    "conc_lst = [0.3, 0.6, 0.9]\n",
    "\n",
    "for i in range(3):\n",
    "    for conc in conc_lst:\n",
    "        sim_dict = {\n",
    "            'output_folder'     : f\"conc{conc}_{i}\",\n",
    "            'data'              : (make_random_sphere, [size, conc, 35]),\n",
    "            'dt'                : 0.2,\n",
    "            'eta'               : 0.1,\n",
    "            'yield_steps'       : 1,\n",
    "            'yield_every'       : 20_000,\n",
    "            'lambdas'           : [0.3 ,0.3, 0.45, 0.43, 0.12],\n",
    "            'pre_lambdas'       : [0.3, 0.3, 0.7],\n",
    "            'gamma'             : 5.0,\n",
    "            'gauss_multiplier'  : 0.04,\n",
    "            'warmup_dur'        : 500,\n",
    "            'pre_polar_dur'     : 7_000,\n",
    "            'seethru'           : 1,\n",
    "            'alpha'             : 0,\n",
    "            'betas'             : (0.0,0.0),\n",
    "            'max_cells'         : 25_000,\n",
    "            'prolif_delay'      : 0,\n",
    "            'abs_s2s3'          : True,\n",
    "            'min0_s1'           : True,\n",
    "            'init_k'            : 100,\n",
    "            'device'            : 'cuda',\n",
    "            'dtype'             : torch.float,\n",
    "            'notes'             : f\"conc{conc}_{i}\",\n",
    "        }\n",
    "\n",
    "        run_simulation(sim_dict)"
   ]
  },
  {
   "cell_type": "code",
   "execution_count": null,
   "metadata": {},
   "outputs": [],
   "source": []
  }
 ],
 "metadata": {
  "kernelspec": {
   "display_name": "masters_env",
   "language": "python",
   "name": "python3"
  },
  "language_info": {
   "codemirror_mode": {
    "name": "ipython",
    "version": 3
   },
   "file_extension": ".py",
   "mimetype": "text/x-python",
   "name": "python",
   "nbconvert_exporter": "python",
   "pygments_lexer": "ipython3",
   "version": "3.11.5"
  }
 },
 "nbformat": 4,
 "nbformat_minor": 2
}
