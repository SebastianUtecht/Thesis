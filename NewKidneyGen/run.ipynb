{
 "cells": [
  {
   "cell_type": "code",
   "execution_count": 1,
   "metadata": {},
   "outputs": [],
   "source": [
    "from DataGeneration import *\n",
    "# from ProduceMCap import *\n",
    "# from KidneyGenAlphaMethod import *\n",
    "# from KidneyGenForReal import *\n",
    "from KidneyGenInVivoGradTube import *"
   ]
  },
  {
   "cell_type": "code",
   "execution_count": 2,
   "metadata": {},
   "outputs": [],
   "source": [
    "folder = \"data/ubud_mcap_final.npy\"\n",
    "data = np.load(folder, allow_pickle=True)\n",
    "\n",
    "# data = (data[0][-1], data[1][-1], data[2][-1], data[3][-1])"
   ]
  },
  {
   "cell_type": "code",
   "execution_count": 3,
   "metadata": {},
   "outputs": [],
   "source": [
    "sim_dict = {\n",
    "    'output_folder'     : f'testing_again',\n",
    "    'data'              : data,\n",
    "    'dt'                : 0.2,\n",
    "    'eta'               : 0.05,\n",
    "    'yield_steps'       : 2000,\n",
    "    'yield_every'       : 100,\n",
    "    'lambdas'           : [ [0.1, 0, 0, 0],\n",
    "                            [0, 0.5, 0.48, 0.02],\n",
    "                            [0.3, 0, 0, 0],\n",
    "                            [0, 0.45, 0.4, 0.15],\n",
    "                            [0, 0.45, 0.4, 0.15]],\n",
    "    'UEC_l0'            : 0.1,\n",
    "    'pUEC_iREC_l0'      : 0.5,\n",
    "    'MPC_iREC_l0'       : 0.2,\n",
    "    'UEC_REC_str'       : 0.3,\n",
    "    'pUEC_REC_str'      : 2,\n",
    "    'gamma'             : 0.0,\n",
    "    'vesicle_time'      : 100_000,\n",
    "    'seethru'           : 0,\n",
    "    'seethru_stop'      : 100_000,\n",
    "    'alphas'            : (0.2, 0.3, 0.5),\n",
    "    'betas'             : [0.0, 0.0, 0.0, 0.0, 0.0],\n",
    "    'activation_sphere' : ([0, 0, 5], 30),\n",
    "    'pit_sphere'        : ([0, 0, 5], 7.5),\n",
    "    'UEC_bound_strength': 0.0,\n",
    "    'recruitment_stop'  : 200_000,\n",
    "    'REC_IC_ratio'      : 1.0,\n",
    "    'iREC_time_arr'     : [1000, 1000, 1000, 1000, 1000],\n",
    "    'max_cells'         : 10_000,\n",
    "    'prolif_delay'      : 0,\n",
    "    'abs_s2s3'          : True,\n",
    "    'UEC_update_strength'   : 0.0,\n",
    "    'cell_wall_interaction' : [True, False, False],\n",
    "    'transform_sigma'   : 3.0,\n",
    "    'init_k'            : 100,\n",
    "    'random_seed'       : 42,\n",
    "    'device'            : 'cpu',\n",
    "    'dtype'             : torch.float,\n",
    "    'notes'             : f'testing_again',\n",
    "    'avg_q'             : False,\n",
    "}"
   ]
  },
  {
   "cell_type": "code",
   "execution_count": 4,
   "metadata": {},
   "outputs": [
    {
     "output_type": "stream",
     "name": "stdout",
     "text": [
      "Starting simulation with notes:\n",
      "testing_again\n"
     ]
    }
   ],
   "source": [
    "run_simulation(sim_dict)"
   ]
  },
  {
   "cell_type": "code",
   "execution_count": 5,
   "metadata": {},
   "outputs": [],
   "source": [
    "sim_dict = {\n",
    "    'output_folder'     : f'testing_comma_shape',\n",
    "    'data'              : data,\n",
    "    'dt'                : 0.2,\n",
    "    'eta'               : 1e-5,\n",
    "    'yield_steps'       : 1000,\n",
    "    'yield_every'       : 10,\n",
    "    'lambdas'           : [0.4 ,0.4, 0.50, 0.40, 0.10],\n",
    "    'pre_lambdas'       : [0.4, 0.4, 1],\n",
    "    'gamma'             : 0.0,\n",
    "    'gauss_multiplier'  : 0.04,\n",
    "    'warmup_dur'        : 0,\n",
    "    'pre_polar_dur'     : 1000,\n",
    "    'vesicle_time'      : 1000,\n",
    "    'seethru'           : 0,\n",
    "    'alpha'             : 0.5,\n",
    "    'betas'             : (0.0,0.001),\n",
    "    'max_cells'         : 10_000,\n",
    "    'prolif_delay'      : 0,\n",
    "    'bound_radius'      : None,\n",
    "    'abs_s2s3'          : True,\n",
    "    'min0_s1'           : False,\n",
    "    'init_k'            : 100,\n",
    "    'random_seed'       : 42,\n",
    "    'device'            : 'cuda',\n",
    "    'dtype'             : torch.float,\n",
    "    'notes'             : f'testing_comma_shape',\n",
    "    'avg_q'             : False,\n",
    "}\n"
   ]
  },
  {
   "cell_type": "code",
   "execution_count": null,
   "metadata": {},
   "outputs": [],
   "source": []
  }
 ],
 "metadata": {
  "kernelspec": {
   "name": "python3",
   "display_name": "Python 3.10.14 64-bit ('seb_thesis_env': conda)"
  },
  "language_info": {
   "codemirror_mode": {
    "name": "ipython",
    "version": 3
   },
   "file_extension": ".py",
   "mimetype": "text/x-python",
   "name": "python",
   "nbconvert_exporter": "python",
   "pygments_lexer": "ipython3",
   "version": "3.10.14"
  },
  "interpreter": {
   "hash": "4c08548143271a714d27776e0e0e6bf98f452125d711c135a0642961d9925bc3"
  }
 },
 "nbformat": 4,
 "nbformat_minor": 2
}